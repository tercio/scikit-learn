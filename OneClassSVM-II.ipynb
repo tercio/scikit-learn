{
 "cells": [
  {
   "cell_type": "markdown",
   "metadata": {},
   "source": [
    "# Teste de Sistema de Detecção de Fraudes\n",
    "\n",
    "Teste utilizando o OneClassSVM, que é uma implementação de Support Vector Machine para Unsupervised Learning\n",
    "\n",
    "Nessa versão o teste é bem simples, utiliza só duas features e não faz tantos testes de configuração da SVM. Quero fazer uma outra versão pra comparar SVM, Logistic Regression e Neural Network. Al[em disso, usar GridSearch para teste de parâmetros etc\n",
    "\n",
    "**Segunda Versão** Vou tentar usar o GridSearch para definir parâmetros\n"
   ]
  },
  {
   "cell_type": "code",
   "execution_count": null,
   "metadata": {
    "collapsed": false
   },
   "outputs": [],
   "source": [
    "from sklearn import svm\n",
    "import numpy as np\n",
    "from sklearn import preprocessing\n",
    "\n",
    "\n",
    "\n"
   ]
  },
  {
   "cell_type": "markdown",
   "metadata": {},
   "source": [
    "- Features layout: cod.cidade, valor compra\n",
    "  - cod. cidade = 1 sp, 2 jundiai, 3 campinas, 4 sorocaba, 5 internet\n",
    "  - local: 1 shoppping, 2 posto gasolina, 3 feira livre, 4 restaurante\n",
    "\n",
    "\n",
    "** Create a list for training using a random number generator **\n",
    "\n"
   ]
  },
  {
   "cell_type": "code",
   "execution_count": null,
   "metadata": {
    "collapsed": false
   },
   "outputs": [],
   "source": [
    "import random\n",
    "\n",
    "place  = np.random.randint(1,4,150)\n",
    "price  = np.random.uniform(50.0,200,150)\n",
    "\n",
    "X = np.column_stack((place,price))\n",
    "\n",
    "print X.shape\n",
    "print X[:,0].shape\n",
    "print X\n",
    "\n",
    "\n",
    "test_place  = np.random.randint(1,8,100)\n",
    "test_price  = np.random.uniform(50.0,200,100)\n",
    "\n",
    "X_test = np.ones((100,2))\n",
    "\n",
    "X_test[:,0] = test_place.reshape(100,)\n",
    "X_test[:,1] = test_price.reshape(100,)\n",
    "\n",
    "#print X_test\n"
   ]
  },
  {
   "cell_type": "markdown",
   "metadata": {},
   "source": [
    "### ** Normalize data for SVM training **\n",
    "\n",
    "This is a ** very ** important step, specially because the features are in a very different range\n",
    "\n",
    "** Nota: ** o Objeto standard, criado aqui, será utilizado abaixo, nos testes, para normalizar os dados de testes baseados nos parametros de normalização usados aqui no treinamento"
   ]
  },
  {
   "cell_type": "code",
   "execution_count": null,
   "metadata": {
    "collapsed": false
   },
   "outputs": [],
   "source": [
    "\n",
    "standard = preprocessing.StandardScaler().fit(X)\n",
    "df_std = standard.transform(X)\n",
    "X = df_std\n",
    "\n",
    "print type(df_std)\n",
    "print df_std.shape\n",
    "#print X\n",
    "\n",
    "\n",
    "df_std_test = standard.transform(X_test)\n",
    "X_test = df_std_test\n",
    "#print X_test"
   ]
  },
  {
   "cell_type": "markdown",
   "metadata": {},
   "source": [
    "## Usando o GridSearchCV para a escolha dos Parâmetros gamma e nu\n",
    "\n",
    "Para escolher o resultado, olhar o gráfico e os indices impressos abaixo. Note que a cada vez que rodamos o script, os dados são gerados novamente (random) por isso não dá pra usar sempre o melhor valor que aparece aqui. Se os valores fossem fixos, ou reais, seria possível fazer o uso."
   ]
  },
  {
   "cell_type": "code",
   "execution_count": null,
   "metadata": {
    "collapsed": false
   },
   "outputs": [],
   "source": [
    "\n",
    "from sklearn.grid_search import GridSearchCV\n",
    "\n",
    "gamma_range = np.linspace (0.1,0.9,9)\n",
    "nu_range   = np.linspace (0.1,0.9,9)\n",
    "param_grid = dict (gamma=gamma_range,nu=nu_range)\n",
    "\n",
    "#print param_grid\n",
    "                   \n",
    "clsf = svm.OneClassSVM(nu=0.1,kernel='rbf',gamma=0.1)\n",
    "\n",
    "\n",
    "grid = GridSearchCV(clsf,param_grid,cv=10,scoring='accuracy')\n",
    "\n",
    "\n",
    "y = np.ones((150,1))\n",
    "#print y\n",
    "grid.fit(X,y)\n",
    "\n",
    "#print \"decision function\"\n",
    "#clsf.decision_function(X)\n",
    "\n",
    "for index,res in enumerate(grid.grid_scores_):\n",
    "    print \"idnex: %d  gamma: %f  nu: %f  mean: %f\" % (index,res.parameters['gamma'],res.parameters['nu'],res.mean_validation_score)\n",
    "\n",
    "grid_mean_scores = [result.mean_validation_score for result in grid.grid_scores_]\n",
    "\n",
    "import matplotlib.pyplot as plt\n",
    "%matplotlib inline\n",
    "\n",
    "\n",
    "plt.plot (grid_mean_scores)\n",
    "plt.xlabel('index of gridsearch teste')\n",
    "plt.ylabel('grid mean score')\n",
    "plt.show()\n",
    "\n",
    "\n"
   ]
  },
  {
   "cell_type": "code",
   "execution_count": null,
   "metadata": {
    "collapsed": false
   },
   "outputs": [],
   "source": [
    "# usando valores padrões de gamma e nu\n",
    "clsf = svm.OneClassSVM(nu=0.1,kernel='rbf',gamma=0.1)\n",
    "clsf.fit(X)\n",
    "\n",
    "output = clsf.predict (X)\n",
    "\n",
    "\n",
    "print \"Corretos: %d \" % len(output[output == 1])\n",
    "print \"Fraude: %d \" % len(output[output == -1])\n",
    "\n",
    "\n"
   ]
  },
  {
   "cell_type": "markdown",
   "metadata": {},
   "source": [
    "## Usando o X_test para fazer o predict\n",
    "\n",
    "agora, o X_test contém uma quantidade grande de valores que deveriam ser considerados FRAUDE"
   ]
  },
  {
   "cell_type": "code",
   "execution_count": null,
   "metadata": {
    "collapsed": false
   },
   "outputs": [],
   "source": [
    "output = clsf.predict (X_test)\n",
    "\n",
    "\n",
    "print \"Corretos: %d \" % len(output[output == 1])\n",
    "print \"Fraude: %d \" % len(output[output == -1])\n",
    "\n"
   ]
  }
 ],
 "metadata": {
  "anaconda-cloud": {},
  "kernelspec": {
   "display_name": "Python [Root]",
   "language": "python",
   "name": "Python [Root]"
  },
  "language_info": {
   "codemirror_mode": {
    "name": "ipython",
    "version": 2
   },
   "file_extension": ".py",
   "mimetype": "text/x-python",
   "name": "python",
   "nbconvert_exporter": "python",
   "pygments_lexer": "ipython2",
   "version": "2.7.12"
  }
 },
 "nbformat": 4,
 "nbformat_minor": 0
}
