{
 "cells": [
  {
   "cell_type": "markdown",
   "metadata": {},
   "source": [
    "# Teste de Sistema de Detecção de Fraudes\n",
    "\n",
    "Teste utilizando o OneClassSVM, que é uma implementação de Support Vector Machine para Unsupervised Learning\n",
    "\n",
    "Nessa versão o teste é bem simples, utiliza só duas features e não faz tantos testes de configuração da SVM. Quero fazer uma outra versão pra comparar SVM, Logistic Regression e Neural Network. Al[em disso, usar GridSearch para teste de parâmetros etc\n",
    "\n",
    "**Segunda Versão** Vou tentar usar o GridSearch para definir parâmetros\n"
   ]
  },
  {
   "cell_type": "code",
   "execution_count": 5,
   "metadata": {
    "collapsed": false
   },
   "outputs": [],
   "source": [
    "from sklearn import svm\n",
    "import numpy as np\n",
    "from sklearn import preprocessing\n",
    "\n",
    "\n",
    "\n"
   ]
  },
  {
   "cell_type": "markdown",
   "metadata": {},
   "source": [
    "- Features layout: cod.cidade, valor compra\n",
    "  - cod. cidade = 1 sp, 2 jundiai, 3 campinas, 4 sorocaba, 5 internet\n",
    "  - local: 1 shoppping, 2 posto gasolina, 3 feira livre, 4 restaurante\n",
    "\n",
    "\n",
    "** Create a list for training using a random number generator **\n",
    "\n"
   ]
  },
  {
   "cell_type": "code",
   "execution_count": 6,
   "metadata": {
    "collapsed": false
   },
   "outputs": [
    {
     "name": "stdout",
     "output_type": "stream",
     "text": [
      "(150, 2)\n",
      "(150,)\n",
      "[[   3.          170.73600114]\n",
      " [   3.          121.36856723]\n",
      " [   1.           60.76212013]\n",
      " [   3.           71.7175753 ]\n",
      " [   1.          148.79767739]\n",
      " [   2.          185.69655581]\n",
      " [   1.          145.39717858]\n",
      " [   2.           57.63083935]\n",
      " [   1.           71.75170706]\n",
      " [   1.          177.60900921]\n",
      " [   1.          193.9603579 ]\n",
      " [   2.          124.49307209]\n",
      " [   1.           80.07663579]\n",
      " [   1.          121.03823715]\n",
      " [   1.          152.22291973]\n",
      " [   3.          144.76988706]\n",
      " [   2.          137.06623616]\n",
      " [   3.           65.5826861 ]\n",
      " [   2.           54.48107161]\n",
      " [   1.          185.56532294]\n",
      " [   1.          157.06087768]\n",
      " [   1.           72.85213643]\n",
      " [   3.           50.76937276]\n",
      " [   1.          166.98657971]\n",
      " [   3.          183.82348966]\n",
      " [   1.          159.65602289]\n",
      " [   1.          146.74093301]\n",
      " [   3.          141.75326747]\n",
      " [   3.          109.27057757]\n",
      " [   3.           87.54055562]\n",
      " [   1.           50.25385707]\n",
      " [   2.          171.14876996]\n",
      " [   1.          166.27693102]\n",
      " [   3.           78.642926  ]\n",
      " [   2.           82.66822991]\n",
      " [   2.           72.4354862 ]\n",
      " [   3.           63.73154737]\n",
      " [   2.          122.58546443]\n",
      " [   2.           83.39254643]\n",
      " [   2.          168.65582501]\n",
      " [   1.          158.24536263]\n",
      " [   2.          199.45850765]\n",
      " [   2.           65.42797235]\n",
      " [   3.           73.38281714]\n",
      " [   3.           65.37768146]\n",
      " [   1.           90.22378528]\n",
      " [   3.           91.75517676]\n",
      " [   2.           94.7764512 ]\n",
      " [   2.          160.18315029]\n",
      " [   2.          175.42471435]\n",
      " [   1.          170.87212825]\n",
      " [   1.          173.06330161]\n",
      " [   3.           79.30496472]\n",
      " [   3.          101.48416335]\n",
      " [   1.          114.68289323]\n",
      " [   2.          118.73201671]\n",
      " [   1.          134.92908107]\n",
      " [   2.          198.30624471]\n",
      " [   2.          123.14181539]\n",
      " [   1.          147.6060914 ]\n",
      " [   2.           94.9321466 ]\n",
      " [   3.          168.20536482]\n",
      " [   3.          166.67797955]\n",
      " [   1.          187.62476097]\n",
      " [   1.           88.8152006 ]\n",
      " [   2.          123.08685623]\n",
      " [   3.           92.95179557]\n",
      " [   2.          139.28987148]\n",
      " [   3.          176.53316517]\n",
      " [   1.           55.72531621]\n",
      " [   1.          126.11110662]\n",
      " [   1.          164.6775509 ]\n",
      " [   2.          106.97310789]\n",
      " [   2.          185.60344019]\n",
      " [   2.           83.42048082]\n",
      " [   2.           89.69135936]\n",
      " [   3.          169.16904838]\n",
      " [   2.          107.70523667]\n",
      " [   2.           92.90460005]\n",
      " [   3.           63.91661403]\n",
      " [   2.           62.80435496]\n",
      " [   2.          186.97719077]\n",
      " [   2.           78.39565713]\n",
      " [   1.          113.77384237]\n",
      " [   1.          133.18208546]\n",
      " [   3.          115.83777779]\n",
      " [   3.           96.1277446 ]\n",
      " [   2.           60.60743058]\n",
      " [   2.           84.58093356]\n",
      " [   2.          167.49933534]\n",
      " [   3.          162.02730327]\n",
      " [   3.          124.03372985]\n",
      " [   2.          166.47316612]\n",
      " [   2.          152.26772149]\n",
      " [   1.          163.63918988]\n",
      " [   3.          189.75149012]\n",
      " [   1.          113.74148046]\n",
      " [   3.          116.84481141]\n",
      " [   1.           78.72285686]\n",
      " [   1.          112.42387724]\n",
      " [   3.          124.04471121]\n",
      " [   1.           52.61143152]\n",
      " [   1.          177.22847092]\n",
      " [   3.          112.47086101]\n",
      " [   3.           59.42580096]\n",
      " [   3.           74.58755023]\n",
      " [   2.           90.66195727]\n",
      " [   1.          182.66116306]\n",
      " [   2.           92.52343566]\n",
      " [   3.          158.61900588]\n",
      " [   2.          158.36737423]\n",
      " [   2.           64.98340583]\n",
      " [   2.          143.44126428]\n",
      " [   3.          183.8947457 ]\n",
      " [   2.          154.2067193 ]\n",
      " [   1.          114.07503394]\n",
      " [   1.          188.51747943]\n",
      " [   3.           96.60613505]\n",
      " [   2.          196.99459604]\n",
      " [   1.          107.64040715]\n",
      " [   3.           94.12442652]\n",
      " [   3.           71.72175676]\n",
      " [   2.           53.44638209]\n",
      " [   2.          134.40062314]\n",
      " [   2.          117.8019708 ]\n",
      " [   1.          132.87134135]\n",
      " [   1.           50.38894808]\n",
      " [   1.          173.10130601]\n",
      " [   1.           79.36465067]\n",
      " [   2.          199.5198917 ]\n",
      " [   2.          156.38538581]\n",
      " [   3.          140.59304765]\n",
      " [   2.          153.25962029]\n",
      " [   1.          157.40508834]\n",
      " [   3.          164.82239553]\n",
      " [   1.           92.00222437]\n",
      " [   2.          112.10719535]\n",
      " [   1.          187.96606503]\n",
      " [   1.           90.08672909]\n",
      " [   1.           86.76314461]\n",
      " [   2.          115.3787387 ]\n",
      " [   2.          110.69266354]\n",
      " [   1.          128.7150086 ]\n",
      " [   2.          127.50521941]\n",
      " [   2.           53.75919402]\n",
      " [   2.          127.39711632]\n",
      " [   1.           96.62425735]\n",
      " [   3.          117.31436115]\n",
      " [   3.          189.77385118]\n",
      " [   3.          127.53633578]]\n"
     ]
    }
   ],
   "source": [
    "import random\n",
    "\n",
    "place  = np.random.randint(1,4,150)\n",
    "price  = np.random.uniform(50.0,200,150)\n",
    "\n",
    "X = np.column_stack((place,price))\n",
    "\n",
    "print X.shape\n",
    "print X[:,0].shape\n",
    "print X\n",
    "\n",
    "\n",
    "test_place  = np.random.randint(1,8,100)\n",
    "test_price  = np.random.uniform(50.0,200,100)\n",
    "\n",
    "X_test = np.ones((100,2))\n",
    "\n",
    "X_test[:,0] = test_place.reshape(100,)\n",
    "X_test[:,1] = test_price.reshape(100,)\n",
    "\n",
    "#print X_test\n"
   ]
  },
  {
   "cell_type": "markdown",
   "metadata": {},
   "source": [
    "### ** Normalize data for SVM training **\n",
    "\n",
    "This is a ** very ** important step, specially because the features are in a very different range\n",
    "\n",
    "** Nota: ** o Objeto standard, criado aqui, será utilizado abaixo, nos testes, para normalizar os dados de testes baseados nos parametros de normalização usados aqui no treinamento"
   ]
  },
  {
   "cell_type": "code",
   "execution_count": 7,
   "metadata": {
    "collapsed": false
   },
   "outputs": [
    {
     "name": "stdout",
     "output_type": "stream",
     "text": [
      "<type 'numpy.ndarray'>\n",
      "(150, 2)\n"
     ]
    }
   ],
   "source": [
    "\n",
    "standard = preprocessing.StandardScaler().fit(X)\n",
    "df_std = standard.transform(X)\n",
    "X = df_std\n",
    "\n",
    "print type(df_std)\n",
    "print df_std.shape\n",
    "#print X\n",
    "\n",
    "\n",
    "df_std_test = standard.transform(X_test)\n",
    "X_test = df_std_test\n",
    "#print X_test"
   ]
  },
  {
   "cell_type": "markdown",
   "metadata": {},
   "source": [
    "## Usando o GridSearchCV para a escolha dos Parâmetros gamma e nu\n",
    "\n",
    "Para escolher o resultado, olhar o gráfico e os indices impressos abaixo. Note que a cada vez que rodamos o script, os dados são gerados novamente (random) por isso não dá pra usar sempre o melhor valor que aparece aqui. Se os valores fossem fixos, ou reais, seria possível fazer o uso."
   ]
  },
  {
   "cell_type": "code",
   "execution_count": 8,
   "metadata": {
    "collapsed": false
   },
   "outputs": [
    {
     "name": "stdout",
     "output_type": "stream",
     "text": [
      "idnex: 0  gamma: 0.100000  nu: 0.100000  mean: 0.886667\n",
      "idnex: 1  gamma: 0.100000  nu: 0.200000  mean: 0.786667\n",
      "idnex: 2  gamma: 0.100000  nu: 0.300000  mean: 0.693333\n",
      "idnex: 3  gamma: 0.100000  nu: 0.400000  mean: 0.600000\n",
      "idnex: 4  gamma: 0.100000  nu: 0.500000  mean: 0.480000\n",
      "idnex: 5  gamma: 0.100000  nu: 0.600000  mean: 0.400000\n",
      "idnex: 6  gamma: 0.100000  nu: 0.700000  mean: 0.306667\n",
      "idnex: 7  gamma: 0.100000  nu: 0.800000  mean: 0.206667\n",
      "idnex: 8  gamma: 0.100000  nu: 0.900000  mean: 0.100000\n",
      "idnex: 9  gamma: 0.200000  nu: 0.100000  mean: 0.886667\n",
      "idnex: 10  gamma: 0.200000  nu: 0.200000  mean: 0.786667\n",
      "idnex: 11  gamma: 0.200000  nu: 0.300000  mean: 0.700000\n",
      "idnex: 12  gamma: 0.200000  nu: 0.400000  mean: 0.593333\n",
      "idnex: 13  gamma: 0.200000  nu: 0.500000  mean: 0.486667\n",
      "idnex: 14  gamma: 0.200000  nu: 0.600000  mean: 0.386667\n",
      "idnex: 15  gamma: 0.200000  nu: 0.700000  mean: 0.293333\n",
      "idnex: 16  gamma: 0.200000  nu: 0.800000  mean: 0.206667\n",
      "idnex: 17  gamma: 0.200000  nu: 0.900000  mean: 0.100000\n",
      "idnex: 18  gamma: 0.300000  nu: 0.100000  mean: 0.860000\n",
      "idnex: 19  gamma: 0.300000  nu: 0.200000  mean: 0.766667\n",
      "idnex: 20  gamma: 0.300000  nu: 0.300000  mean: 0.700000\n",
      "idnex: 21  gamma: 0.300000  nu: 0.400000  mean: 0.593333\n",
      "idnex: 22  gamma: 0.300000  nu: 0.500000  mean: 0.500000\n",
      "idnex: 23  gamma: 0.300000  nu: 0.600000  mean: 0.373333\n",
      "idnex: 24  gamma: 0.300000  nu: 0.700000  mean: 0.300000\n",
      "idnex: 25  gamma: 0.300000  nu: 0.800000  mean: 0.200000\n",
      "idnex: 26  gamma: 0.300000  nu: 0.900000  mean: 0.100000\n",
      "idnex: 27  gamma: 0.400000  nu: 0.100000  mean: 0.873333\n",
      "idnex: 28  gamma: 0.400000  nu: 0.200000  mean: 0.780000\n",
      "idnex: 29  gamma: 0.400000  nu: 0.300000  mean: 0.666667\n",
      "idnex: 30  gamma: 0.400000  nu: 0.400000  mean: 0.593333\n",
      "idnex: 31  gamma: 0.400000  nu: 0.500000  mean: 0.486667\n",
      "idnex: 32  gamma: 0.400000  nu: 0.600000  mean: 0.400000\n",
      "idnex: 33  gamma: 0.400000  nu: 0.700000  mean: 0.260000\n",
      "idnex: 34  gamma: 0.400000  nu: 0.800000  mean: 0.200000\n",
      "idnex: 35  gamma: 0.400000  nu: 0.900000  mean: 0.093333\n",
      "idnex: 36  gamma: 0.500000  nu: 0.100000  mean: 0.853333\n",
      "idnex: 37  gamma: 0.500000  nu: 0.200000  mean: 0.780000\n",
      "idnex: 38  gamma: 0.500000  nu: 0.300000  mean: 0.673333\n",
      "idnex: 39  gamma: 0.500000  nu: 0.400000  mean: 0.586667\n",
      "idnex: 40  gamma: 0.500000  nu: 0.500000  mean: 0.480000\n",
      "idnex: 41  gamma: 0.500000  nu: 0.600000  mean: 0.406667\n",
      "idnex: 42  gamma: 0.500000  nu: 0.700000  mean: 0.266667\n",
      "idnex: 43  gamma: 0.500000  nu: 0.800000  mean: 0.193333\n",
      "idnex: 44  gamma: 0.500000  nu: 0.900000  mean: 0.100000\n",
      "idnex: 45  gamma: 0.600000  nu: 0.100000  mean: 0.873333\n",
      "idnex: 46  gamma: 0.600000  nu: 0.200000  mean: 0.780000\n",
      "idnex: 47  gamma: 0.600000  nu: 0.300000  mean: 0.686667\n",
      "idnex: 48  gamma: 0.600000  nu: 0.400000  mean: 0.566667\n",
      "idnex: 49  gamma: 0.600000  nu: 0.500000  mean: 0.500000\n",
      "idnex: 50  gamma: 0.600000  nu: 0.600000  mean: 0.393333\n",
      "idnex: 51  gamma: 0.600000  nu: 0.700000  mean: 0.286667\n",
      "idnex: 52  gamma: 0.600000  nu: 0.800000  mean: 0.173333\n",
      "idnex: 53  gamma: 0.600000  nu: 0.900000  mean: 0.100000\n",
      "idnex: 54  gamma: 0.700000  nu: 0.100000  mean: 0.853333\n",
      "idnex: 55  gamma: 0.700000  nu: 0.200000  mean: 0.780000\n",
      "idnex: 56  gamma: 0.700000  nu: 0.300000  mean: 0.680000\n",
      "idnex: 57  gamma: 0.700000  nu: 0.400000  mean: 0.546667\n",
      "idnex: 58  gamma: 0.700000  nu: 0.500000  mean: 0.486667\n",
      "idnex: 59  gamma: 0.700000  nu: 0.600000  mean: 0.373333\n",
      "idnex: 60  gamma: 0.700000  nu: 0.700000  mean: 0.306667\n",
      "idnex: 61  gamma: 0.700000  nu: 0.800000  mean: 0.173333\n",
      "idnex: 62  gamma: 0.700000  nu: 0.900000  mean: 0.086667\n",
      "idnex: 63  gamma: 0.800000  nu: 0.100000  mean: 0.833333\n",
      "idnex: 64  gamma: 0.800000  nu: 0.200000  mean: 0.733333\n",
      "idnex: 65  gamma: 0.800000  nu: 0.300000  mean: 0.640000\n",
      "idnex: 66  gamma: 0.800000  nu: 0.400000  mean: 0.546667\n",
      "idnex: 67  gamma: 0.800000  nu: 0.500000  mean: 0.480000\n",
      "idnex: 68  gamma: 0.800000  nu: 0.600000  mean: 0.373333\n",
      "idnex: 69  gamma: 0.800000  nu: 0.700000  mean: 0.286667\n",
      "idnex: 70  gamma: 0.800000  nu: 0.800000  mean: 0.173333\n",
      "idnex: 71  gamma: 0.800000  nu: 0.900000  mean: 0.066667\n",
      "idnex: 72  gamma: 0.900000  nu: 0.100000  mean: 0.853333\n",
      "idnex: 73  gamma: 0.900000  nu: 0.200000  mean: 0.733333\n",
      "idnex: 74  gamma: 0.900000  nu: 0.300000  mean: 0.693333\n",
      "idnex: 75  gamma: 0.900000  nu: 0.400000  mean: 0.546667\n",
      "idnex: 76  gamma: 0.900000  nu: 0.500000  mean: 0.473333\n",
      "idnex: 77  gamma: 0.900000  nu: 0.600000  mean: 0.380000\n",
      "idnex: 78  gamma: 0.900000  nu: 0.700000  mean: 0.280000\n",
      "idnex: 79  gamma: 0.900000  nu: 0.800000  mean: 0.180000\n",
      "idnex: 80  gamma: 0.900000  nu: 0.900000  mean: 0.060000\n"
     ]
    },
    {
     "data": {
      "image/png": "[encoded data removed]",
      "text/plain": [
       "<matplotlib.figure.Figure at 0x10dbf2c50>"
      ]
     },
     "metadata": {},
     "output_type": "display_data"
    }
   ],
   "source": [
    "\n",
    "from sklearn.grid_search import GridSearchCV\n",
    "\n",
    "gamma_range = np.linspace (0.1,0.9,9)\n",
    "nu_range   = np.linspace (0.1,0.9,9)\n",
    "param_grid = dict (gamma=gamma_range,nu=nu_range)\n",
    "\n",
    "#print param_grid\n",
    "                   \n",
    "clsf = svm.OneClassSVM(nu=0.1,kernel='rbf',gamma=0.1)\n",
    "\n",
    "\n",
    "grid = GridSearchCV(clsf,param_grid,cv=10,scoring='accuracy')\n",
    "\n",
    "\n",
    "y = np.ones((150,1))\n",
    "#print y\n",
    "grid.fit(X,y)\n",
    "\n",
    "#print \"decision function\"\n",
    "#clsf.decision_function(X)\n",
    "\n",
    "for index,res in enumerate(grid.grid_scores_):\n",
    "    print \"idnex: %d  gamma: %f  nu: %f  mean: %f\" % (index,res.parameters['gamma'],res.parameters['nu'],res.mean_validation_score)\n",
    "\n",
    "grid_mean_scores = [result.mean_validation_score for result in grid.grid_scores_]\n",
    "\n",
    "import matplotlib.pyplot as plt\n",
    "%matplotlib inline\n",
    "\n",
    "\n",
    "plt.plot (grid_mean_scores)\n",
    "plt.xlabel('index of gridsearch teste')\n",
    "plt.ylabel('grid mean score')\n",
    "plt.show()\n",
    "\n",
    "\n"
   ]
  },
  {
   "cell_type": "code",
   "execution_count": 9,
   "metadata": {
    "collapsed": false
   },
   "outputs": [
    {
     "name": "stdout",
     "output_type": "stream",
     "text": [
      "Corretos: 135 \n",
      "Fraude: 15 \n"
     ]
    }
   ],
   "source": [
    "# usando valores padrões de gamma e nu\n",
    "clsf = svm.OneClassSVM(nu=0.1,kernel='rbf',gamma=0.1)\n",
    "clsf.fit(X)\n",
    "\n",
    "output = clsf.predict (X)\n",
    "\n",
    "\n",
    "print \"Corretos: %d \" % len(output[output == 1])\n",
    "print \"Fraude: %d \" % len(output[output == -1])\n",
    "\n",
    "\n"
   ]
  },
  {
   "cell_type": "markdown",
   "metadata": {},
   "source": [
    "## Usando o X_test para fazer o predict\n",
    "\n",
    "agora, o X_test contém uma quantidade grande de valores que deveriam ser considerados FRAUDE"
   ]
  },
  {
   "cell_type": "code",
   "execution_count": 10,
   "metadata": {
    "collapsed": false
   },
   "outputs": [
    {
     "name": "stdout",
     "output_type": "stream",
     "text": [
      "Corretos: 40 \n",
      "Fraude: 60 \n"
     ]
    }
   ],
   "source": [
    "output = clsf.predict (X_test)\n",
    "\n",
    "\n",
    "print \"Corretos: %d \" % len(output[output == 1])\n",
    "print \"Fraude: %d \" % len(output[output == -1])\n",
    "\n"
   ]
  }
 ],
 "metadata": {
  "anaconda-cloud": {},
  "kernelspec": {
   "display_name": "Python [Root]",
   "language": "python",
   "name": "Python [Root]"
  },
  "language_info": {
   "codemirror_mode": {
    "name": "ipython",
    "version": 2
   },
   "file_extension": ".py",
   "mimetype": "text/x-python",
   "name": "python",
   "nbconvert_exporter": "python",
   "pygments_lexer": "ipython2",
   "version": "2.7.12"
  }
 },
 "nbformat": 4,
 "nbformat_minor": 0
}
