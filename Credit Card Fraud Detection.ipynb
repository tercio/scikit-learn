{
 "cells": [
  {
   "cell_type": "markdown",
   "metadata": {},
   "source": [
    "# POC para detecção de fraudes em cartões de crédito\n",
    "\n",
    "Mais informações sobre o dataset: https://www.kaggle.com/mlg-ulb/creditcardfraud/version/3"
   ]
  },
  {
   "cell_type": "code",
   "execution_count": 3,
   "metadata": {},
   "outputs": [
    {
     "name": "stderr",
     "output_type": "stream",
     "text": [
      "/usr/local/lib/python2.7/dist-packages/sklearn/cross_validation.py:41: DeprecationWarning: This module was deprecated in version 0.18 in favor of the model_selection module into which all the refactored classes and functions are moved. Also note that the interface of the new CV iterators are different from that of this module. This module will be removed in 0.20.\n",
      "  \"This module will be removed in 0.20.\", DeprecationWarning)\n"
     ]
    }
   ],
   "source": [
    "from sklearn import datasets\n",
    "from sklearn import cross_validation\n",
    "from sklearn.linear_model import LogisticRegression\n",
    "from sklearn.naive_bayes import GaussianNB\n",
    "from sklearn.ensemble import RandomForestClassifier\n",
    "from sklearn.ensemble import VotingClassifier\n",
    "import xgboost as xbg\n",
    "import pandas as pd\n",
    "from matplotlib import pyplot\n",
    "from sklearn.model_selection import train_test_split\n",
    "\n",
    "import warnings\n",
    "warnings.filterwarnings(module='sklearn*', action='ignore', category=DeprecationWarning)\n",
    "\n",
    "\n",
    "df = pd.read_csv('/home/tercio/projects/tercio/MachineLearning/Datasets/CreditCardFraud/creditcard.csv')\n",
    "\n",
    "\n",
    "\n",
    "\n"
   ]
  },
  {
   "cell_type": "code",
   "execution_count": 4,
   "metadata": {},
   "outputs": [
    {
     "name": "stdout",
     "output_type": "stream",
     "text": [
      "                Time            V1            V2            V3            V4  \\\n",
      "count  284807.000000  2.848070e+05  2.848070e+05  2.848070e+05  2.848070e+05   \n",
      "mean    94813.859575  1.165980e-15  3.416908e-16 -1.373150e-15  2.086869e-15   \n",
      "std     47488.145955  1.958696e+00  1.651309e+00  1.516255e+00  1.415869e+00   \n",
      "min         0.000000 -5.640751e+01 -7.271573e+01 -4.832559e+01 -5.683171e+00   \n",
      "25%     54201.500000 -9.203734e-01 -5.985499e-01 -8.903648e-01 -8.486401e-01   \n",
      "50%     84692.000000  1.810880e-02  6.548556e-02  1.798463e-01 -1.984653e-02   \n",
      "75%    139320.500000  1.315642e+00  8.037239e-01  1.027196e+00  7.433413e-01   \n",
      "max    172792.000000  2.454930e+00  2.205773e+01  9.382558e+00  1.687534e+01   \n",
      "\n",
      "                 V5            V6            V7            V8            V9  \\\n",
      "count  2.848070e+05  2.848070e+05  2.848070e+05  2.848070e+05  2.848070e+05   \n",
      "mean   9.604066e-16  1.490107e-15 -5.556467e-16  1.177556e-16 -2.406455e-15   \n",
      "std    1.380247e+00  1.332271e+00  1.237094e+00  1.194353e+00  1.098632e+00   \n",
      "min   -1.137433e+02 -2.616051e+01 -4.355724e+01 -7.321672e+01 -1.343407e+01   \n",
      "25%   -6.915971e-01 -7.682956e-01 -5.540759e-01 -2.086297e-01 -6.430976e-01   \n",
      "50%   -5.433583e-02 -2.741871e-01  4.010308e-02  2.235804e-02 -5.142873e-02   \n",
      "75%    6.119264e-01  3.985649e-01  5.704361e-01  3.273459e-01  5.971390e-01   \n",
      "max    3.480167e+01  7.330163e+01  1.205895e+02  2.000721e+01  1.559499e+01   \n",
      "\n",
      "           ...                 V21           V22           V23           V24  \\\n",
      "count      ...        2.848070e+05  2.848070e+05  2.848070e+05  2.848070e+05   \n",
      "mean       ...        1.656562e-16 -3.444850e-16  2.578648e-16  4.471968e-15   \n",
      "std        ...        7.345240e-01  7.257016e-01  6.244603e-01  6.056471e-01   \n",
      "min        ...       -3.483038e+01 -1.093314e+01 -4.480774e+01 -2.836627e+00   \n",
      "25%        ...       -2.283949e-01 -5.423504e-01 -1.618463e-01 -3.545861e-01   \n",
      "50%        ...       -2.945017e-02  6.781943e-03 -1.119293e-02  4.097606e-02   \n",
      "75%        ...        1.863772e-01  5.285536e-01  1.476421e-01  4.395266e-01   \n",
      "max        ...        2.720284e+01  1.050309e+01  2.252841e+01  4.584549e+00   \n",
      "\n",
      "                V25           V26           V27           V28         Amount  \\\n",
      "count  2.848070e+05  2.848070e+05  2.848070e+05  2.848070e+05  284807.000000   \n",
      "mean   5.340915e-16  1.687098e-15 -3.666453e-16 -1.220404e-16      88.349619   \n",
      "std    5.212781e-01  4.822270e-01  4.036325e-01  3.300833e-01     250.120109   \n",
      "min   -1.029540e+01 -2.604551e+00 -2.256568e+01 -1.543008e+01       0.000000   \n",
      "25%   -3.171451e-01 -3.269839e-01 -7.083953e-02 -5.295979e-02       5.600000   \n",
      "50%    1.659350e-02 -5.213911e-02  1.342146e-03  1.124383e-02      22.000000   \n",
      "75%    3.507156e-01  2.409522e-01  9.104512e-02  7.827995e-02      77.165000   \n",
      "max    7.519589e+00  3.517346e+00  3.161220e+01  3.384781e+01   25691.160000   \n",
      "\n",
      "               Class  \n",
      "count  284807.000000  \n",
      "mean        0.001727  \n",
      "std         0.041527  \n",
      "min         0.000000  \n",
      "25%         0.000000  \n",
      "50%         0.000000  \n",
      "75%         0.000000  \n",
      "max         1.000000  \n",
      "\n",
      "[8 rows x 31 columns]\n",
      "<class 'pandas.core.frame.DataFrame'>\n",
      "RangeIndex: 284807 entries, 0 to 284806\n",
      "Data columns (total 31 columns):\n",
      "Time      284807 non-null float64\n",
      "V1        284807 non-null float64\n",
      "V2        284807 non-null float64\n",
      "V3        284807 non-null float64\n",
      "V4        284807 non-null float64\n",
      "V5        284807 non-null float64\n",
      "V6        284807 non-null float64\n",
      "V7        284807 non-null float64\n",
      "V8        284807 non-null float64\n",
      "V9        284807 non-null float64\n",
      "V10       284807 non-null float64\n",
      "V11       284807 non-null float64\n",
      "V12       284807 non-null float64\n",
      "V13       284807 non-null float64\n",
      "V14       284807 non-null float64\n",
      "V15       284807 non-null float64\n",
      "V16       284807 non-null float64\n",
      "V17       284807 non-null float64\n",
      "V18       284807 non-null float64\n",
      "V19       284807 non-null float64\n",
      "V20       284807 non-null float64\n",
      "V21       284807 non-null float64\n",
      "V22       284807 non-null float64\n",
      "V23       284807 non-null float64\n",
      "V24       284807 non-null float64\n",
      "V25       284807 non-null float64\n",
      "V26       284807 non-null float64\n",
      "V27       284807 non-null float64\n",
      "V28       284807 non-null float64\n",
      "Amount    284807 non-null float64\n",
      "Class     284807 non-null int64\n",
      "dtypes: float64(30), int64(1)\n",
      "memory usage: 67.4 MB\n"
     ]
    },
    {
     "data": {
      "text/html": [
       "<div>\n",
       "<style>\n",
       "    .dataframe thead tr:only-child th {\n",
       "        text-align: right;\n",
       "    }\n",
       "\n",
       "    .dataframe thead th {\n",
       "        text-align: left;\n",
       "    }\n",
       "\n",
       "    .dataframe tbody tr th {\n",
       "        vertical-align: top;\n",
       "    }\n",
       "</style>\n",
       "<table border=\"1\" class=\"dataframe\">\n",
       "  <thead>\n",
       "    <tr style=\"text-align: right;\">\n",
       "      <th></th>\n",
       "      <th>Time</th>\n",
       "      <th>V1</th>\n",
       "      <th>V2</th>\n",
       "      <th>V3</th>\n",
       "      <th>V4</th>\n",
       "      <th>V5</th>\n",
       "      <th>V6</th>\n",
       "      <th>V7</th>\n",
       "      <th>V8</th>\n",
       "      <th>V9</th>\n",
       "      <th>...</th>\n",
       "      <th>V21</th>\n",
       "      <th>V22</th>\n",
       "      <th>V23</th>\n",
       "      <th>V24</th>\n",
       "      <th>V25</th>\n",
       "      <th>V26</th>\n",
       "      <th>V27</th>\n",
       "      <th>V28</th>\n",
       "      <th>Amount</th>\n",
       "      <th>Class</th>\n",
       "    </tr>\n",
       "  </thead>\n",
       "  <tbody>\n",
       "    <tr>\n",
       "      <th>0</th>\n",
       "      <td>0.0</td>\n",
       "      <td>-1.359807</td>\n",
       "      <td>-0.072781</td>\n",
       "      <td>2.536347</td>\n",
       "      <td>1.378155</td>\n",
       "      <td>-0.338321</td>\n",
       "      <td>0.462388</td>\n",
       "      <td>0.239599</td>\n",
       "      <td>0.098698</td>\n",
       "      <td>0.363787</td>\n",
       "      <td>...</td>\n",
       "      <td>-0.018307</td>\n",
       "      <td>0.277838</td>\n",
       "      <td>-0.110474</td>\n",
       "      <td>0.066928</td>\n",
       "      <td>0.128539</td>\n",
       "      <td>-0.189115</td>\n",
       "      <td>0.133558</td>\n",
       "      <td>-0.021053</td>\n",
       "      <td>149.62</td>\n",
       "      <td>0</td>\n",
       "    </tr>\n",
       "    <tr>\n",
       "      <th>1</th>\n",
       "      <td>0.0</td>\n",
       "      <td>1.191857</td>\n",
       "      <td>0.266151</td>\n",
       "      <td>0.166480</td>\n",
       "      <td>0.448154</td>\n",
       "      <td>0.060018</td>\n",
       "      <td>-0.082361</td>\n",
       "      <td>-0.078803</td>\n",
       "      <td>0.085102</td>\n",
       "      <td>-0.255425</td>\n",
       "      <td>...</td>\n",
       "      <td>-0.225775</td>\n",
       "      <td>-0.638672</td>\n",
       "      <td>0.101288</td>\n",
       "      <td>-0.339846</td>\n",
       "      <td>0.167170</td>\n",
       "      <td>0.125895</td>\n",
       "      <td>-0.008983</td>\n",
       "      <td>0.014724</td>\n",
       "      <td>2.69</td>\n",
       "      <td>0</td>\n",
       "    </tr>\n",
       "    <tr>\n",
       "      <th>2</th>\n",
       "      <td>1.0</td>\n",
       "      <td>-1.358354</td>\n",
       "      <td>-1.340163</td>\n",
       "      <td>1.773209</td>\n",
       "      <td>0.379780</td>\n",
       "      <td>-0.503198</td>\n",
       "      <td>1.800499</td>\n",
       "      <td>0.791461</td>\n",
       "      <td>0.247676</td>\n",
       "      <td>-1.514654</td>\n",
       "      <td>...</td>\n",
       "      <td>0.247998</td>\n",
       "      <td>0.771679</td>\n",
       "      <td>0.909412</td>\n",
       "      <td>-0.689281</td>\n",
       "      <td>-0.327642</td>\n",
       "      <td>-0.139097</td>\n",
       "      <td>-0.055353</td>\n",
       "      <td>-0.059752</td>\n",
       "      <td>378.66</td>\n",
       "      <td>0</td>\n",
       "    </tr>\n",
       "    <tr>\n",
       "      <th>3</th>\n",
       "      <td>1.0</td>\n",
       "      <td>-0.966272</td>\n",
       "      <td>-0.185226</td>\n",
       "      <td>1.792993</td>\n",
       "      <td>-0.863291</td>\n",
       "      <td>-0.010309</td>\n",
       "      <td>1.247203</td>\n",
       "      <td>0.237609</td>\n",
       "      <td>0.377436</td>\n",
       "      <td>-1.387024</td>\n",
       "      <td>...</td>\n",
       "      <td>-0.108300</td>\n",
       "      <td>0.005274</td>\n",
       "      <td>-0.190321</td>\n",
       "      <td>-1.175575</td>\n",
       "      <td>0.647376</td>\n",
       "      <td>-0.221929</td>\n",
       "      <td>0.062723</td>\n",
       "      <td>0.061458</td>\n",
       "      <td>123.50</td>\n",
       "      <td>0</td>\n",
       "    </tr>\n",
       "    <tr>\n",
       "      <th>4</th>\n",
       "      <td>2.0</td>\n",
       "      <td>-1.158233</td>\n",
       "      <td>0.877737</td>\n",
       "      <td>1.548718</td>\n",
       "      <td>0.403034</td>\n",
       "      <td>-0.407193</td>\n",
       "      <td>0.095921</td>\n",
       "      <td>0.592941</td>\n",
       "      <td>-0.270533</td>\n",
       "      <td>0.817739</td>\n",
       "      <td>...</td>\n",
       "      <td>-0.009431</td>\n",
       "      <td>0.798278</td>\n",
       "      <td>-0.137458</td>\n",
       "      <td>0.141267</td>\n",
       "      <td>-0.206010</td>\n",
       "      <td>0.502292</td>\n",
       "      <td>0.219422</td>\n",
       "      <td>0.215153</td>\n",
       "      <td>69.99</td>\n",
       "      <td>0</td>\n",
       "    </tr>\n",
       "  </tbody>\n",
       "</table>\n",
       "<p>5 rows × 31 columns</p>\n",
       "</div>"
      ],
      "text/plain": [
       "   Time        V1        V2        V3        V4        V5        V6        V7  \\\n",
       "0   0.0 -1.359807 -0.072781  2.536347  1.378155 -0.338321  0.462388  0.239599   \n",
       "1   0.0  1.191857  0.266151  0.166480  0.448154  0.060018 -0.082361 -0.078803   \n",
       "2   1.0 -1.358354 -1.340163  1.773209  0.379780 -0.503198  1.800499  0.791461   \n",
       "3   1.0 -0.966272 -0.185226  1.792993 -0.863291 -0.010309  1.247203  0.237609   \n",
       "4   2.0 -1.158233  0.877737  1.548718  0.403034 -0.407193  0.095921  0.592941   \n",
       "\n",
       "         V8        V9  ...         V21       V22       V23       V24  \\\n",
       "0  0.098698  0.363787  ...   -0.018307  0.277838 -0.110474  0.066928   \n",
       "1  0.085102 -0.255425  ...   -0.225775 -0.638672  0.101288 -0.339846   \n",
       "2  0.247676 -1.514654  ...    0.247998  0.771679  0.909412 -0.689281   \n",
       "3  0.377436 -1.387024  ...   -0.108300  0.005274 -0.190321 -1.175575   \n",
       "4 -0.270533  0.817739  ...   -0.009431  0.798278 -0.137458  0.141267   \n",
       "\n",
       "        V25       V26       V27       V28  Amount  Class  \n",
       "0  0.128539 -0.189115  0.133558 -0.021053  149.62      0  \n",
       "1  0.167170  0.125895 -0.008983  0.014724    2.69      0  \n",
       "2 -0.327642 -0.139097 -0.055353 -0.059752  378.66      0  \n",
       "3  0.647376 -0.221929  0.062723  0.061458  123.50      0  \n",
       "4 -0.206010  0.502292  0.219422  0.215153   69.99      0  \n",
       "\n",
       "[5 rows x 31 columns]"
      ]
     },
     "execution_count": 4,
     "metadata": {},
     "output_type": "execute_result"
    }
   ],
   "source": [
    "print df.describe()\n",
    "df.info()\n",
    "df.head()"
   ]
  },
  {
   "cell_type": "code",
   "execution_count": 5,
   "metadata": {},
   "outputs": [
    {
     "data": {
      "text/html": [
       "<div>\n",
       "<style>\n",
       "    .dataframe thead tr:only-child th {\n",
       "        text-align: right;\n",
       "    }\n",
       "\n",
       "    .dataframe thead th {\n",
       "        text-align: left;\n",
       "    }\n",
       "\n",
       "    .dataframe tbody tr th {\n",
       "        vertical-align: top;\n",
       "    }\n",
       "</style>\n",
       "<table border=\"1\" class=\"dataframe\">\n",
       "  <thead>\n",
       "    <tr style=\"text-align: right;\">\n",
       "      <th></th>\n",
       "      <th>Time</th>\n",
       "      <th>V1</th>\n",
       "      <th>V2</th>\n",
       "      <th>V3</th>\n",
       "      <th>V4</th>\n",
       "      <th>V5</th>\n",
       "      <th>V6</th>\n",
       "      <th>V7</th>\n",
       "      <th>V8</th>\n",
       "      <th>V9</th>\n",
       "      <th>...</th>\n",
       "      <th>V20</th>\n",
       "      <th>V21</th>\n",
       "      <th>V22</th>\n",
       "      <th>V23</th>\n",
       "      <th>V24</th>\n",
       "      <th>V25</th>\n",
       "      <th>V26</th>\n",
       "      <th>V27</th>\n",
       "      <th>V28</th>\n",
       "      <th>Amount</th>\n",
       "    </tr>\n",
       "  </thead>\n",
       "  <tbody>\n",
       "    <tr>\n",
       "      <th>count</th>\n",
       "      <td>227845.000000</td>\n",
       "      <td>227845.000000</td>\n",
       "      <td>227845.000000</td>\n",
       "      <td>227845.000000</td>\n",
       "      <td>227845.000000</td>\n",
       "      <td>227845.000000</td>\n",
       "      <td>227845.000000</td>\n",
       "      <td>227845.000000</td>\n",
       "      <td>227845.000000</td>\n",
       "      <td>227845.000000</td>\n",
       "      <td>...</td>\n",
       "      <td>227845.000000</td>\n",
       "      <td>227845.000000</td>\n",
       "      <td>227845.000000</td>\n",
       "      <td>227845.000000</td>\n",
       "      <td>227845.000000</td>\n",
       "      <td>227845.000000</td>\n",
       "      <td>227845.000000</td>\n",
       "      <td>227845.000000</td>\n",
       "      <td>227845.000000</td>\n",
       "      <td>227845.000000</td>\n",
       "    </tr>\n",
       "    <tr>\n",
       "      <th>mean</th>\n",
       "      <td>94792.551673</td>\n",
       "      <td>0.000916</td>\n",
       "      <td>-0.000384</td>\n",
       "      <td>-0.000920</td>\n",
       "      <td>-0.001458</td>\n",
       "      <td>0.000997</td>\n",
       "      <td>-0.000613</td>\n",
       "      <td>0.001090</td>\n",
       "      <td>-0.000383</td>\n",
       "      <td>0.000961</td>\n",
       "      <td>...</td>\n",
       "      <td>0.000398</td>\n",
       "      <td>0.000215</td>\n",
       "      <td>-0.001215</td>\n",
       "      <td>0.000175</td>\n",
       "      <td>-0.000217</td>\n",
       "      <td>-0.000979</td>\n",
       "      <td>-0.000192</td>\n",
       "      <td>-0.000032</td>\n",
       "      <td>0.000257</td>\n",
       "      <td>88.479993</td>\n",
       "    </tr>\n",
       "    <tr>\n",
       "      <th>std</th>\n",
       "      <td>47488.471663</td>\n",
       "      <td>1.958337</td>\n",
       "      <td>1.656602</td>\n",
       "      <td>1.514545</td>\n",
       "      <td>1.415853</td>\n",
       "      <td>1.387667</td>\n",
       "      <td>1.336803</td>\n",
       "      <td>1.243493</td>\n",
       "      <td>1.188643</td>\n",
       "      <td>1.097553</td>\n",
       "      <td>...</td>\n",
       "      <td>0.774045</td>\n",
       "      <td>0.732617</td>\n",
       "      <td>0.725311</td>\n",
       "      <td>0.627103</td>\n",
       "      <td>0.605446</td>\n",
       "      <td>0.521764</td>\n",
       "      <td>0.482443</td>\n",
       "      <td>0.401821</td>\n",
       "      <td>0.329776</td>\n",
       "      <td>254.930277</td>\n",
       "    </tr>\n",
       "    <tr>\n",
       "      <th>min</th>\n",
       "      <td>0.000000</td>\n",
       "      <td>-56.407510</td>\n",
       "      <td>-72.715728</td>\n",
       "      <td>-48.325589</td>\n",
       "      <td>-5.683171</td>\n",
       "      <td>-113.743307</td>\n",
       "      <td>-26.160506</td>\n",
       "      <td>-43.557242</td>\n",
       "      <td>-73.216718</td>\n",
       "      <td>-13.320155</td>\n",
       "      <td>...</td>\n",
       "      <td>-54.497720</td>\n",
       "      <td>-34.830382</td>\n",
       "      <td>-10.933144</td>\n",
       "      <td>-44.807735</td>\n",
       "      <td>-2.836627</td>\n",
       "      <td>-10.295397</td>\n",
       "      <td>-2.604551</td>\n",
       "      <td>-9.895244</td>\n",
       "      <td>-15.430084</td>\n",
       "      <td>0.000000</td>\n",
       "    </tr>\n",
       "    <tr>\n",
       "      <th>25%</th>\n",
       "      <td>54161.000000</td>\n",
       "      <td>-0.919918</td>\n",
       "      <td>-0.597971</td>\n",
       "      <td>-0.890786</td>\n",
       "      <td>-0.849270</td>\n",
       "      <td>-0.688802</td>\n",
       "      <td>-0.768573</td>\n",
       "      <td>-0.552156</td>\n",
       "      <td>-0.208431</td>\n",
       "      <td>-0.642386</td>\n",
       "      <td>...</td>\n",
       "      <td>-0.211969</td>\n",
       "      <td>-0.228730</td>\n",
       "      <td>-0.542809</td>\n",
       "      <td>-0.161296</td>\n",
       "      <td>-0.354887</td>\n",
       "      <td>-0.317835</td>\n",
       "      <td>-0.327476</td>\n",
       "      <td>-0.070960</td>\n",
       "      <td>-0.052980</td>\n",
       "      <td>5.600000</td>\n",
       "    </tr>\n",
       "    <tr>\n",
       "      <th>50%</th>\n",
       "      <td>84707.000000</td>\n",
       "      <td>0.017978</td>\n",
       "      <td>0.066050</td>\n",
       "      <td>0.179041</td>\n",
       "      <td>-0.020959</td>\n",
       "      <td>-0.054711</td>\n",
       "      <td>-0.274846</td>\n",
       "      <td>0.041272</td>\n",
       "      <td>0.022233</td>\n",
       "      <td>-0.050414</td>\n",
       "      <td>...</td>\n",
       "      <td>-0.062614</td>\n",
       "      <td>-0.029639</td>\n",
       "      <td>0.005491</td>\n",
       "      <td>-0.010595</td>\n",
       "      <td>0.040766</td>\n",
       "      <td>0.015101</td>\n",
       "      <td>-0.052011</td>\n",
       "      <td>0.001359</td>\n",
       "      <td>0.011366</td>\n",
       "      <td>22.000000</td>\n",
       "    </tr>\n",
       "    <tr>\n",
       "      <th>75%</th>\n",
       "      <td>139305.000000</td>\n",
       "      <td>1.315548</td>\n",
       "      <td>0.803898</td>\n",
       "      <td>1.025399</td>\n",
       "      <td>0.741630</td>\n",
       "      <td>0.611173</td>\n",
       "      <td>0.396056</td>\n",
       "      <td>0.570639</td>\n",
       "      <td>0.327504</td>\n",
       "      <td>0.599040</td>\n",
       "      <td>...</td>\n",
       "      <td>0.133017</td>\n",
       "      <td>0.186080</td>\n",
       "      <td>0.527408</td>\n",
       "      <td>0.148202</td>\n",
       "      <td>0.439790</td>\n",
       "      <td>0.350453</td>\n",
       "      <td>0.240813</td>\n",
       "      <td>0.091400</td>\n",
       "      <td>0.078464</td>\n",
       "      <td>77.100000</td>\n",
       "    </tr>\n",
       "    <tr>\n",
       "      <th>max</th>\n",
       "      <td>172792.000000</td>\n",
       "      <td>2.454930</td>\n",
       "      <td>22.057729</td>\n",
       "      <td>4.187811</td>\n",
       "      <td>16.875344</td>\n",
       "      <td>34.801666</td>\n",
       "      <td>73.301626</td>\n",
       "      <td>120.589494</td>\n",
       "      <td>20.007208</td>\n",
       "      <td>10.392889</td>\n",
       "      <td>...</td>\n",
       "      <td>39.420904</td>\n",
       "      <td>27.202839</td>\n",
       "      <td>10.503090</td>\n",
       "      <td>22.528412</td>\n",
       "      <td>4.584549</td>\n",
       "      <td>7.519589</td>\n",
       "      <td>3.517346</td>\n",
       "      <td>31.612198</td>\n",
       "      <td>33.847808</td>\n",
       "      <td>25691.160000</td>\n",
       "    </tr>\n",
       "  </tbody>\n",
       "</table>\n",
       "<p>8 rows × 30 columns</p>\n",
       "</div>"
      ],
      "text/plain": [
       "                Time             V1             V2             V3  \\\n",
       "count  227845.000000  227845.000000  227845.000000  227845.000000   \n",
       "mean    94792.551673       0.000916      -0.000384      -0.000920   \n",
       "std     47488.471663       1.958337       1.656602       1.514545   \n",
       "min         0.000000     -56.407510     -72.715728     -48.325589   \n",
       "25%     54161.000000      -0.919918      -0.597971      -0.890786   \n",
       "50%     84707.000000       0.017978       0.066050       0.179041   \n",
       "75%    139305.000000       1.315548       0.803898       1.025399   \n",
       "max    172792.000000       2.454930      22.057729       4.187811   \n",
       "\n",
       "                  V4             V5             V6             V7  \\\n",
       "count  227845.000000  227845.000000  227845.000000  227845.000000   \n",
       "mean       -0.001458       0.000997      -0.000613       0.001090   \n",
       "std         1.415853       1.387667       1.336803       1.243493   \n",
       "min        -5.683171    -113.743307     -26.160506     -43.557242   \n",
       "25%        -0.849270      -0.688802      -0.768573      -0.552156   \n",
       "50%        -0.020959      -0.054711      -0.274846       0.041272   \n",
       "75%         0.741630       0.611173       0.396056       0.570639   \n",
       "max        16.875344      34.801666      73.301626     120.589494   \n",
       "\n",
       "                  V8             V9      ...                  V20  \\\n",
       "count  227845.000000  227845.000000      ...        227845.000000   \n",
       "mean       -0.000383       0.000961      ...             0.000398   \n",
       "std         1.188643       1.097553      ...             0.774045   \n",
       "min       -73.216718     -13.320155      ...           -54.497720   \n",
       "25%        -0.208431      -0.642386      ...            -0.211969   \n",
       "50%         0.022233      -0.050414      ...            -0.062614   \n",
       "75%         0.327504       0.599040      ...             0.133017   \n",
       "max        20.007208      10.392889      ...            39.420904   \n",
       "\n",
       "                 V21            V22            V23            V24  \\\n",
       "count  227845.000000  227845.000000  227845.000000  227845.000000   \n",
       "mean        0.000215      -0.001215       0.000175      -0.000217   \n",
       "std         0.732617       0.725311       0.627103       0.605446   \n",
       "min       -34.830382     -10.933144     -44.807735      -2.836627   \n",
       "25%        -0.228730      -0.542809      -0.161296      -0.354887   \n",
       "50%        -0.029639       0.005491      -0.010595       0.040766   \n",
       "75%         0.186080       0.527408       0.148202       0.439790   \n",
       "max        27.202839      10.503090      22.528412       4.584549   \n",
       "\n",
       "                 V25            V26            V27            V28  \\\n",
       "count  227845.000000  227845.000000  227845.000000  227845.000000   \n",
       "mean       -0.000979      -0.000192      -0.000032       0.000257   \n",
       "std         0.521764       0.482443       0.401821       0.329776   \n",
       "min       -10.295397      -2.604551      -9.895244     -15.430084   \n",
       "25%        -0.317835      -0.327476      -0.070960      -0.052980   \n",
       "50%         0.015101      -0.052011       0.001359       0.011366   \n",
       "75%         0.350453       0.240813       0.091400       0.078464   \n",
       "max         7.519589       3.517346      31.612198      33.847808   \n",
       "\n",
       "              Amount  \n",
       "count  227845.000000  \n",
       "mean       88.479993  \n",
       "std       254.930277  \n",
       "min         0.000000  \n",
       "25%         5.600000  \n",
       "50%        22.000000  \n",
       "75%        77.100000  \n",
       "max     25691.160000  \n",
       "\n",
       "[8 rows x 30 columns]"
      ]
     },
     "execution_count": 5,
     "metadata": {},
     "output_type": "execute_result"
    }
   ],
   "source": [
    "feature_cols = ['Time', 'V1', 'V2', 'V3', 'V4', 'V5', 'V6', 'V7', 'V8', 'V9', 'V10' ,'V11' ,'V12', 'V13', 'V14', 'V15', 'V16', 'V17', 'V18', 'V19', 'V20', 'V21', 'V22', 'V23', 'V24', 'V25', 'V26', 'V27', 'V28', 'Amount']\n",
    "\n",
    "Train_set,Test_set = train_test_split(df,test_size=0.2,random_state=42)\n",
    "\n",
    "X = Train_set.loc[:, feature_cols]\n",
    "y = Train_set.Class\n",
    "\n",
    "X_test = Test_set.loc[:, feature_cols]\n",
    "y_test = Test_set.Class\n",
    "\n",
    "X.describe()"
   ]
  },
  {
   "cell_type": "code",
   "execution_count": 6,
   "metadata": {},
   "outputs": [
    {
     "data": {
      "image/png": "[encoded data removed]",
      "text/plain": [
       "<matplotlib.figure.Figure at 0x7f5b304362d0>"
      ]
     },
     "metadata": {},
     "output_type": "display_data"
    }
   ],
   "source": [
    "df.hist(figsize=(20,15))\n",
    "pyplot.show()"
   ]
  },
  {
   "cell_type": "code",
   "execution_count": 7,
   "metadata": {},
   "outputs": [
    {
     "name": "stdout",
     "output_type": "stream",
     "text": [
      "Accuracy: 1.00 (+/- 0.00) [Logistic Regression]\n",
      "Accuracy: 1.00 (+/- 0.00) [Random Forest]\n",
      "Accuracy: 0.99 (+/- 0.00) [naive Bayes]\n",
      "Accuracy: 1.00 (+/- 0.00) [XGBoost]\n",
      "Accuracy: 1.00 (+/- 0.00) [Ensemble]\n"
     ]
    }
   ],
   "source": [
    "\n",
    "clf1 = LogisticRegression(random_state=1,penalty='l2')\n",
    "clf2 = RandomForestClassifier(random_state=1)\n",
    "clf3 = GaussianNB()\n",
    "clf4 = xbg.XGBClassifier( )\n",
    "eclf = VotingClassifier(estimators=[('lr', clf1), ('rf', clf2), ('gnb', clf3), ('xgb',clf4)], voting='hard')\n",
    "\n",
    "\n",
    "# Faz um cross validation de 5 folds para cada um dos estimators acima (logistic, random forest, naive e o proprio)\n",
    "# ensemble e mostra o accuracy de cada um deles\n",
    "for clf, label in zip([clf1, clf2, clf3, clf4,eclf], ['Logistic Regression', 'Random Forest', 'naive Bayes','XGBoost' ,'Ensemble']):\n",
    "    scores = cross_validation.cross_val_score(clf, X, y, cv=5, scoring='accuracy')\n",
    "    print(\"Accuracy: %0.2f (+/- %0.2f) [%s]\" % (scores.mean(), scores.std(), label))"
   ]
  },
  {
   "cell_type": "code",
   "execution_count": 8,
   "metadata": {},
   "outputs": [
    {
     "name": "stdout",
     "output_type": "stream",
     "text": [
      "XGBClassifier(base_score=0.5, booster='gbtree', colsample_bylevel=1,\n",
      "       colsample_bytree=1, gamma=0, learning_rate=0.1, max_delta_step=0,\n",
      "       max_depth=3, min_child_weight=1, missing=None, n_estimators=100,\n",
      "       n_jobs=1, nthread=None, objective='binary:logistic', random_state=0,\n",
      "       reg_alpha=0, reg_lambda=1, scale_pos_weight=1, seed=None,\n",
      "       silent=True, subsample=1)\n"
     ]
    },
    {
     "data": {
      "image/png": "[encoded data removed]",
      "text/plain": [
       "<matplotlib.figure.Figure at 0x7f5b335f8750>"
      ]
     },
     "metadata": {},
     "output_type": "display_data"
    }
   ],
   "source": [
    "from xgboost import plot_importance\n",
    "\n",
    "\n",
    "params = {'objective' :\"binary:logistic\", \n",
    "          'max_depth' : 3,\n",
    "          'min_child_weight' : 100,\n",
    "          'subsample' : 1,\n",
    "          'colsample_bytree' : 1}\n",
    "\n",
    "clf4 = xbg.XGBClassifier()\n",
    "\n",
    "#print clf4.get_params().keys()\n",
    "\n",
    "#clf4.set_params(**params)\n",
    "\n",
    "print clf4\n",
    "\n",
    "clf4.fit(X,y)\n",
    "plot_importance(clf4)\n",
    "pyplot.show()\n"
   ]
  },
  {
   "cell_type": "code",
   "execution_count": 9,
   "metadata": {},
   "outputs": [
    {
     "data": {
      "text/plain": [
       "array([0.00733138, 0.02052786, 0.00879765, 0.01466276, 0.12903225,\n",
       "       0.0058651 , 0.02199413, 0.08064516, 0.03372434, 0.01466276,\n",
       "       0.06158358, 0.00879765, 0.04398827, 0.01026393, 0.16129032,\n",
       "       0.01466276, 0.02639296, 0.08357771, 0.0058651 , 0.02785924,\n",
       "       0.04398827, 0.02639296, 0.01319648, 0.01173021, 0.01026393,\n",
       "       0.00439883, 0.02052786, 0.01319648, 0.02785924, 0.04692082],\n",
       "      dtype=float32)"
      ]
     },
     "execution_count": 9,
     "metadata": {},
     "output_type": "execute_result"
    }
   ],
   "source": [
    "clf4.feature_importances_"
   ]
  },
  {
   "cell_type": "code",
   "execution_count": 10,
   "metadata": {
    "collapsed": true
   },
   "outputs": [],
   "source": [
    "pred = clf4.predict(X_test)"
   ]
  },
  {
   "cell_type": "code",
   "execution_count": 11,
   "metadata": {
    "collapsed": true
   },
   "outputs": [],
   "source": [
    "res = pred == y_test\n",
    "corretos = res[res == True]"
   ]
  },
  {
   "cell_type": "code",
   "execution_count": 12,
   "metadata": {},
   "outputs": [
    {
     "name": "stdout",
     "output_type": "stream",
     "text": [
      "Corretos: 56938/(56962) 99.96%\n"
     ]
    }
   ],
   "source": [
    "print \"Corretos: %d/(%d) %.2f%%\" % (len(corretos) ,len(pred), (float(len(corretos))/float(len(pred))) * 100.0)\n",
    " "
   ]
  },
  {
   "cell_type": "code",
   "execution_count": 13,
   "metadata": {},
   "outputs": [
    {
     "data": {
      "text/plain": [
       "0.9995786664794073"
      ]
     },
     "execution_count": 13,
     "metadata": {},
     "output_type": "execute_result"
    }
   ],
   "source": [
    "from sklearn.metrics import accuracy_score\n",
    "accuracy_score(y_test, pred)"
   ]
  },
  {
   "cell_type": "code",
   "execution_count": 14,
   "metadata": {},
   "outputs": [
    {
     "data": {
      "text/plain": [
       "array([[227440,     11],\n",
       "       [    65,    329]])"
      ]
     },
     "execution_count": 14,
     "metadata": {},
     "output_type": "execute_result"
    }
   ],
   "source": [
    "pred = clf4.predict(X)\n",
    "\n",
    "from sklearn.metrics import confusion_matrix\n",
    "\n",
    "# each row in a confusion matrix represents an *actual* class, while each column represents a *predicted* class \n",
    "confusion_matrix(y,pred)"
   ]
  },
  {
   "cell_type": "code",
   "execution_count": 15,
   "metadata": {
    "collapsed": true
   },
   "outputs": [],
   "source": [
    "#help (confusion_matrix)"
   ]
  },
  {
   "cell_type": "code",
   "execution_count": 16,
   "metadata": {},
   "outputs": [
    {
     "name": "stdout",
     "output_type": "stream",
     "text": [
      "Fitting 5 folds for each of 12 candidates, totalling 60 fits\n",
      "[CV] colsample_bytree=0.7, silent=1, learning_rate=0.05, min_child_weight=1, n_estimators=100, subsample=0.8, seed=1337, objective=binary:logistic, max_depth=3 \n"
     ]
    },
    {
     "name": "stderr",
     "output_type": "stream",
     "text": [
      "/usr/local/lib/python2.7/dist-packages/xgboost-0.6-py2.7.egg/xgboost/sklearn.py:203: DeprecationWarning: The seed parameter is deprecated as of version .6.Please use random_state instead.seed is deprecated.\n",
      "  'seed is deprecated.', DeprecationWarning)\n"
     ]
    },
    {
     "name": "stdout",
     "output_type": "stream",
     "text": [
      "[CV] colsample_bytree=0.7, silent=1, learning_rate=0.05, min_child_weight=1, n_estimators=100, subsample=0.8, seed=1337, objective=binary:logistic, max_depth=3 \n"
     ]
    },
    {
     "name": "stderr",
     "output_type": "stream",
     "text": [
      "/usr/local/lib/python2.7/dist-packages/xgboost-0.6-py2.7.egg/xgboost/sklearn.py:203: DeprecationWarning: The seed parameter is deprecated as of version .6.Please use random_state instead.seed is deprecated.\n",
      "  'seed is deprecated.', DeprecationWarning)\n"
     ]
    },
    {
     "name": "stdout",
     "output_type": "stream",
     "text": [
      "[CV] colsample_bytree=0.7, silent=1, learning_rate=0.05, min_child_weight=1, n_estimators=100, subsample=0.8, seed=1337, objective=binary:logistic, max_depth=3 \n"
     ]
    },
    {
     "name": "stderr",
     "output_type": "stream",
     "text": [
      "/usr/local/lib/python2.7/dist-packages/xgboost-0.6-py2.7.egg/xgboost/sklearn.py:203: DeprecationWarning: The seed parameter is deprecated as of version .6.Please use random_state instead.seed is deprecated.\n",
      "  'seed is deprecated.', DeprecationWarning)\n"
     ]
    },
    {
     "name": "stdout",
     "output_type": "stream",
     "text": [
      "[CV] colsample_bytree=0.7, silent=1, learning_rate=0.05, min_child_weight=1, n_estimators=100, subsample=0.8, seed=1337, objective=binary:logistic, max_depth=3 \n",
      "[CV] colsample_bytree=0.7, silent=1, learning_rate=0.05, min_child_weight=1, n_estimators=100, subsample=0.8, seed=1337, objective=binary:logistic, max_depth=3 \n"
     ]
    },
    {
     "name": "stderr",
     "output_type": "stream",
     "text": [
      "/usr/local/lib/python2.7/dist-packages/xgboost-0.6-py2.7.egg/xgboost/sklearn.py:203: DeprecationWarning: The seed parameter is deprecated as of version .6.Please use random_state instead.seed is deprecated.\n",
      "  'seed is deprecated.', DeprecationWarning)\n",
      "/usr/local/lib/python2.7/dist-packages/xgboost-0.6-py2.7.egg/xgboost/sklearn.py:203: DeprecationWarning: The seed parameter is deprecated as of version .6.Please use random_state instead.seed is deprecated.\n",
      "  'seed is deprecated.', DeprecationWarning)\n"
     ]
    },
    {
     "name": "stdout",
     "output_type": "stream",
     "text": [
      "[CV]  colsample_bytree=0.7, silent=1, learning_rate=0.05, min_child_weight=1, n_estimators=100, subsample=0.8, seed=1337, objective=binary:logistic, max_depth=3 - 1.3min\n",
      "[CV] colsample_bytree=0.7, silent=1, learning_rate=0.05, min_child_weight=11, n_estimators=100, subsample=0.8, seed=1337, objective=binary:logistic, max_depth=3 \n"
     ]
    },
    {
     "name": "stderr",
     "output_type": "stream",
     "text": [
      "/usr/local/lib/python2.7/dist-packages/xgboost-0.6-py2.7.egg/xgboost/sklearn.py:203: DeprecationWarning: The seed parameter is deprecated as of version .6.Please use random_state instead.seed is deprecated.\n",
      "  'seed is deprecated.', DeprecationWarning)\n"
     ]
    },
    {
     "name": "stdout",
     "output_type": "stream",
     "text": [
      "[CV]  colsample_bytree=0.7, silent=1, learning_rate=0.05, min_child_weight=1, n_estimators=100, subsample=0.8, seed=1337, objective=binary:logistic, max_depth=3 - 1.4min\n",
      "[CV] colsample_bytree=0.7, silent=1, learning_rate=0.05, min_child_weight=11, n_estimators=100, subsample=0.8, seed=1337, objective=binary:logistic, max_depth=3 \n"
     ]
    },
    {
     "name": "stderr",
     "output_type": "stream",
     "text": [
      "/usr/local/lib/python2.7/dist-packages/xgboost-0.6-py2.7.egg/xgboost/sklearn.py:203: DeprecationWarning: The seed parameter is deprecated as of version .6.Please use random_state instead.seed is deprecated.\n",
      "  'seed is deprecated.', DeprecationWarning)\n"
     ]
    },
    {
     "name": "stdout",
     "output_type": "stream",
     "text": [
      "[CV]  colsample_bytree=0.7, silent=1, learning_rate=0.05, min_child_weight=1, n_estimators=100, subsample=0.8, seed=1337, objective=binary:logistic, max_depth=3 - 1.5min\n",
      "[CV] colsample_bytree=0.7, silent=1, learning_rate=0.05, min_child_weight=11, n_estimators=100, subsample=0.8, seed=1337, objective=binary:logistic, max_depth=3 \n"
     ]
    },
    {
     "name": "stderr",
     "output_type": "stream",
     "text": [
      "/usr/local/lib/python2.7/dist-packages/xgboost-0.6-py2.7.egg/xgboost/sklearn.py:203: DeprecationWarning: The seed parameter is deprecated as of version .6.Please use random_state instead.seed is deprecated.\n",
      "  'seed is deprecated.', DeprecationWarning)\n"
     ]
    },
    {
     "name": "stdout",
     "output_type": "stream",
     "text": [
      "[CV]  colsample_bytree=0.7, silent=1, learning_rate=0.05, min_child_weight=1, n_estimators=100, subsample=0.8, seed=1337, objective=binary:logistic, max_depth=3 - 1.5min\n",
      "[CV] colsample_bytree=0.7, silent=1, learning_rate=0.05, min_child_weight=11, n_estimators=100, subsample=0.8, seed=1337, objective=binary:logistic, max_depth=3 \n"
     ]
    },
    {
     "name": "stderr",
     "output_type": "stream",
     "text": [
      "/usr/local/lib/python2.7/dist-packages/xgboost-0.6-py2.7.egg/xgboost/sklearn.py:203: DeprecationWarning: The seed parameter is deprecated as of version .6.Please use random_state instead.seed is deprecated.\n",
      "  'seed is deprecated.', DeprecationWarning)\n"
     ]
    },
    {
     "name": "stdout",
     "output_type": "stream",
     "text": [
      "[CV]  colsample_bytree=0.7, silent=1, learning_rate=0.05, min_child_weight=1, n_estimators=100, subsample=0.8, seed=1337, objective=binary:logistic, max_depth=3 - 1.5min\n",
      "[CV] colsample_bytree=0.7, silent=1, learning_rate=0.05, min_child_weight=11, n_estimators=100, subsample=0.8, seed=1337, objective=binary:logistic, max_depth=3 \n"
     ]
    },
    {
     "name": "stderr",
     "output_type": "stream",
     "text": [
      "/usr/local/lib/python2.7/dist-packages/xgboost-0.6-py2.7.egg/xgboost/sklearn.py:203: DeprecationWarning: The seed parameter is deprecated as of version .6.Please use random_state instead.seed is deprecated.\n",
      "  'seed is deprecated.', DeprecationWarning)\n"
     ]
    },
    {
     "name": "stdout",
     "output_type": "stream",
     "text": [
      "[CV]  colsample_bytree=0.7, silent=1, learning_rate=0.05, min_child_weight=11, n_estimators=100, subsample=0.8, seed=1337, objective=binary:logistic, max_depth=3 - 1.4min\n",
      "[CV] colsample_bytree=0.7, silent=1, learning_rate=0.05, min_child_weight=1, n_estimators=100, subsample=0.8, seed=1337, objective=binary:logistic, max_depth=6 \n"
     ]
    },
    {
     "name": "stderr",
     "output_type": "stream",
     "text": [
      "/usr/local/lib/python2.7/dist-packages/xgboost-0.6-py2.7.egg/xgboost/sklearn.py:203: DeprecationWarning: The seed parameter is deprecated as of version .6.Please use random_state instead.seed is deprecated.\n",
      "  'seed is deprecated.', DeprecationWarning)\n"
     ]
    },
    {
     "name": "stdout",
     "output_type": "stream",
     "text": [
      "[CV]  colsample_bytree=0.7, silent=1, learning_rate=0.05, min_child_weight=11, n_estimators=100, subsample=0.8, seed=1337, objective=binary:logistic, max_depth=3 - 1.4min\n",
      "[CV] colsample_bytree=0.7, silent=1, learning_rate=0.05, min_child_weight=1, n_estimators=100, subsample=0.8, seed=1337, objective=binary:logistic, max_depth=6 \n"
     ]
    },
    {
     "name": "stderr",
     "output_type": "stream",
     "text": [
      "/usr/local/lib/python2.7/dist-packages/xgboost-0.6-py2.7.egg/xgboost/sklearn.py:203: DeprecationWarning: The seed parameter is deprecated as of version .6.Please use random_state instead.seed is deprecated.\n",
      "  'seed is deprecated.', DeprecationWarning)\n"
     ]
    },
    {
     "name": "stdout",
     "output_type": "stream",
     "text": [
      "[CV]  colsample_bytree=0.7, silent=1, learning_rate=0.05, min_child_weight=11, n_estimators=100, subsample=0.8, seed=1337, objective=binary:logistic, max_depth=3 - 1.5min\n",
      "[CV] colsample_bytree=0.7, silent=1, learning_rate=0.05, min_child_weight=1, n_estimators=100, subsample=0.8, seed=1337, objective=binary:logistic, max_depth=6 \n"
     ]
    },
    {
     "name": "stderr",
     "output_type": "stream",
     "text": [
      "/usr/local/lib/python2.7/dist-packages/xgboost-0.6-py2.7.egg/xgboost/sklearn.py:203: DeprecationWarning: The seed parameter is deprecated as of version .6.Please use random_state instead.seed is deprecated.\n",
      "  'seed is deprecated.', DeprecationWarning)\n"
     ]
    },
    {
     "name": "stdout",
     "output_type": "stream",
     "text": [
      "[CV]  colsample_bytree=0.7, silent=1, learning_rate=0.05, min_child_weight=11, n_estimators=100, subsample=0.8, seed=1337, objective=binary:logistic, max_depth=3 - 1.5min\n",
      "[CV] colsample_bytree=0.7, silent=1, learning_rate=0.05, min_child_weight=1, n_estimators=100, subsample=0.8, seed=1337, objective=binary:logistic, max_depth=6 \n"
     ]
    },
    {
     "name": "stderr",
     "output_type": "stream",
     "text": [
      "/usr/local/lib/python2.7/dist-packages/xgboost-0.6-py2.7.egg/xgboost/sklearn.py:203: DeprecationWarning: The seed parameter is deprecated as of version .6.Please use random_state instead.seed is deprecated.\n",
      "  'seed is deprecated.', DeprecationWarning)\n"
     ]
    },
    {
     "name": "stdout",
     "output_type": "stream",
     "text": [
      "[CV]  colsample_bytree=0.7, silent=1, learning_rate=0.05, min_child_weight=11, n_estimators=100, subsample=0.8, seed=1337, objective=binary:logistic, max_depth=3 - 1.5min\n",
      "[CV] colsample_bytree=0.7, silent=1, learning_rate=0.05, min_child_weight=1, n_estimators=100, subsample=0.8, seed=1337, objective=binary:logistic, max_depth=6 \n"
     ]
    },
    {
     "name": "stderr",
     "output_type": "stream",
     "text": [
      "/usr/local/lib/python2.7/dist-packages/xgboost-0.6-py2.7.egg/xgboost/sklearn.py:203: DeprecationWarning: The seed parameter is deprecated as of version .6.Please use random_state instead.seed is deprecated.\n",
      "  'seed is deprecated.', DeprecationWarning)\n"
     ]
    },
    {
     "name": "stdout",
     "output_type": "stream",
     "text": [
      "[CV]  colsample_bytree=0.7, silent=1, learning_rate=0.05, min_child_weight=1, n_estimators=100, subsample=0.8, seed=1337, objective=binary:logistic, max_depth=6 - 2.7min\n",
      "[CV] colsample_bytree=0.7, silent=1, learning_rate=0.05, min_child_weight=11, n_estimators=100, subsample=0.8, seed=1337, objective=binary:logistic, max_depth=6 \n"
     ]
    },
    {
     "name": "stderr",
     "output_type": "stream",
     "text": [
      "/usr/local/lib/python2.7/dist-packages/xgboost-0.6-py2.7.egg/xgboost/sklearn.py:203: DeprecationWarning: The seed parameter is deprecated as of version .6.Please use random_state instead.seed is deprecated.\n",
      "  'seed is deprecated.', DeprecationWarning)\n"
     ]
    },
    {
     "name": "stdout",
     "output_type": "stream",
     "text": [
      "[CV]  colsample_bytree=0.7, silent=1, learning_rate=0.05, min_child_weight=1, n_estimators=100, subsample=0.8, seed=1337, objective=binary:logistic, max_depth=6 - 2.8min\n",
      "[CV] colsample_bytree=0.7, silent=1, learning_rate=0.05, min_child_weight=11, n_estimators=100, subsample=0.8, seed=1337, objective=binary:logistic, max_depth=6 \n"
     ]
    },
    {
     "name": "stderr",
     "output_type": "stream",
     "text": [
      "/usr/local/lib/python2.7/dist-packages/xgboost-0.6-py2.7.egg/xgboost/sklearn.py:203: DeprecationWarning: The seed parameter is deprecated as of version .6.Please use random_state instead.seed is deprecated.\n",
      "  'seed is deprecated.', DeprecationWarning)\n"
     ]
    },
    {
     "name": "stdout",
     "output_type": "stream",
     "text": [
      "[CV]  colsample_bytree=0.7, silent=1, learning_rate=0.05, min_child_weight=1, n_estimators=100, subsample=0.8, seed=1337, objective=binary:logistic, max_depth=6 - 2.8min\n",
      "[CV] colsample_bytree=0.7, silent=1, learning_rate=0.05, min_child_weight=11, n_estimators=100, subsample=0.8, seed=1337, objective=binary:logistic, max_depth=6 \n"
     ]
    },
    {
     "name": "stderr",
     "output_type": "stream",
     "text": [
      "/usr/local/lib/python2.7/dist-packages/xgboost-0.6-py2.7.egg/xgboost/sklearn.py:203: DeprecationWarning: The seed parameter is deprecated as of version .6.Please use random_state instead.seed is deprecated.\n",
      "  'seed is deprecated.', DeprecationWarning)\n"
     ]
    },
    {
     "name": "stdout",
     "output_type": "stream",
     "text": [
      "[CV]  colsample_bytree=0.7, silent=1, learning_rate=0.05, min_child_weight=1, n_estimators=100, subsample=0.8, seed=1337, objective=binary:logistic, max_depth=6 - 2.8min\n",
      "[CV] colsample_bytree=0.7, silent=1, learning_rate=0.05, min_child_weight=11, n_estimators=100, subsample=0.8, seed=1337, objective=binary:logistic, max_depth=6 \n"
     ]
    },
    {
     "name": "stderr",
     "output_type": "stream",
     "text": [
      "/usr/local/lib/python2.7/dist-packages/xgboost-0.6-py2.7.egg/xgboost/sklearn.py:203: DeprecationWarning: The seed parameter is deprecated as of version .6.Please use random_state instead.seed is deprecated.\n",
      "  'seed is deprecated.', DeprecationWarning)\n"
     ]
    },
    {
     "name": "stdout",
     "output_type": "stream",
     "text": [
      "[CV]  colsample_bytree=0.7, silent=1, learning_rate=0.05, min_child_weight=1, n_estimators=100, subsample=0.8, seed=1337, objective=binary:logistic, max_depth=6 - 2.9min\n",
      "[CV] colsample_bytree=0.7, silent=1, learning_rate=0.05, min_child_weight=11, n_estimators=100, subsample=0.8, seed=1337, objective=binary:logistic, max_depth=6 \n"
     ]
    },
    {
     "name": "stderr",
     "output_type": "stream",
     "text": [
      "/usr/local/lib/python2.7/dist-packages/xgboost-0.6-py2.7.egg/xgboost/sklearn.py:203: DeprecationWarning: The seed parameter is deprecated as of version .6.Please use random_state instead.seed is deprecated.\n",
      "  'seed is deprecated.', DeprecationWarning)\n"
     ]
    },
    {
     "name": "stdout",
     "output_type": "stream",
     "text": [
      "[CV]  colsample_bytree=0.7, silent=1, learning_rate=0.05, min_child_weight=11, n_estimators=100, subsample=0.8, seed=1337, objective=binary:logistic, max_depth=6 - 2.1min\n",
      "[CV] colsample_bytree=0.7, silent=1, learning_rate=0.05, min_child_weight=1, n_estimators=100, subsample=0.8, seed=1337, objective=binary:logistic, max_depth=9 \n"
     ]
    },
    {
     "name": "stderr",
     "output_type": "stream",
     "text": [
      "/usr/local/lib/python2.7/dist-packages/xgboost-0.6-py2.7.egg/xgboost/sklearn.py:203: DeprecationWarning: The seed parameter is deprecated as of version .6.Please use random_state instead.seed is deprecated.\n",
      "  'seed is deprecated.', DeprecationWarning)\n"
     ]
    },
    {
     "name": "stdout",
     "output_type": "stream",
     "text": [
      "[CV]  colsample_bytree=0.7, silent=1, learning_rate=0.05, min_child_weight=11, n_estimators=100, subsample=0.8, seed=1337, objective=binary:logistic, max_depth=6 - 2.2min\n",
      "[CV] colsample_bytree=0.7, silent=1, learning_rate=0.05, min_child_weight=1, n_estimators=100, subsample=0.8, seed=1337, objective=binary:logistic, max_depth=9 \n"
     ]
    },
    {
     "name": "stderr",
     "output_type": "stream",
     "text": [
      "/usr/local/lib/python2.7/dist-packages/xgboost-0.6-py2.7.egg/xgboost/sklearn.py:203: DeprecationWarning: The seed parameter is deprecated as of version .6.Please use random_state instead.seed is deprecated.\n",
      "  'seed is deprecated.', DeprecationWarning)\n"
     ]
    },
    {
     "name": "stdout",
     "output_type": "stream",
     "text": [
      "[CV]  colsample_bytree=0.7, silent=1, learning_rate=0.05, min_child_weight=11, n_estimators=100, subsample=0.8, seed=1337, objective=binary:logistic, max_depth=6 - 2.0min\n",
      "[CV] colsample_bytree=0.7, silent=1, learning_rate=0.05, min_child_weight=1, n_estimators=100, subsample=0.8, seed=1337, objective=binary:logistic, max_depth=9 \n"
     ]
    },
    {
     "name": "stderr",
     "output_type": "stream",
     "text": [
      "/usr/local/lib/python2.7/dist-packages/xgboost-0.6-py2.7.egg/xgboost/sklearn.py:203: DeprecationWarning: The seed parameter is deprecated as of version .6.Please use random_state instead.seed is deprecated.\n",
      "  'seed is deprecated.', DeprecationWarning)\n"
     ]
    },
    {
     "name": "stdout",
     "output_type": "stream",
     "text": [
      "[CV]  colsample_bytree=0.7, silent=1, learning_rate=0.05, min_child_weight=11, n_estimators=100, subsample=0.8, seed=1337, objective=binary:logistic, max_depth=6 - 2.2min\n",
      "[CV] colsample_bytree=0.7, silent=1, learning_rate=0.05, min_child_weight=1, n_estimators=100, subsample=0.8, seed=1337, objective=binary:logistic, max_depth=9 \n"
     ]
    },
    {
     "name": "stderr",
     "output_type": "stream",
     "text": [
      "/usr/local/lib/python2.7/dist-packages/xgboost-0.6-py2.7.egg/xgboost/sklearn.py:203: DeprecationWarning: The seed parameter is deprecated as of version .6.Please use random_state instead.seed is deprecated.\n",
      "  'seed is deprecated.', DeprecationWarning)\n"
     ]
    },
    {
     "name": "stdout",
     "output_type": "stream",
     "text": [
      "[CV]  colsample_bytree=0.7, silent=1, learning_rate=0.05, min_child_weight=11, n_estimators=100, subsample=0.8, seed=1337, objective=binary:logistic, max_depth=6 - 2.2min\n",
      "[CV] colsample_bytree=0.7, silent=1, learning_rate=0.05, min_child_weight=1, n_estimators=100, subsample=0.8, seed=1337, objective=binary:logistic, max_depth=9 \n"
     ]
    },
    {
     "name": "stderr",
     "output_type": "stream",
     "text": [
      "/usr/local/lib/python2.7/dist-packages/xgboost-0.6-py2.7.egg/xgboost/sklearn.py:203: DeprecationWarning: The seed parameter is deprecated as of version .6.Please use random_state instead.seed is deprecated.\n",
      "  'seed is deprecated.', DeprecationWarning)\n"
     ]
    },
    {
     "name": "stdout",
     "output_type": "stream",
     "text": [
      "[CV]  colsample_bytree=0.7, silent=1, learning_rate=0.05, min_child_weight=1, n_estimators=100, subsample=0.8, seed=1337, objective=binary:logistic, max_depth=9 - 3.2min\n",
      "[CV] colsample_bytree=0.7, silent=1, learning_rate=0.05, min_child_weight=11, n_estimators=100, subsample=0.8, seed=1337, objective=binary:logistic, max_depth=9 \n"
     ]
    },
    {
     "name": "stderr",
     "output_type": "stream",
     "text": [
      "/usr/local/lib/python2.7/dist-packages/xgboost-0.6-py2.7.egg/xgboost/sklearn.py:203: DeprecationWarning: The seed parameter is deprecated as of version .6.Please use random_state instead.seed is deprecated.\n",
      "  'seed is deprecated.', DeprecationWarning)\n"
     ]
    },
    {
     "name": "stdout",
     "output_type": "stream",
     "text": [
      "[CV]  colsample_bytree=0.7, silent=1, learning_rate=0.05, min_child_weight=1, n_estimators=100, subsample=0.8, seed=1337, objective=binary:logistic, max_depth=9 - 3.4min\n",
      "[CV] colsample_bytree=0.7, silent=1, learning_rate=0.05, min_child_weight=11, n_estimators=100, subsample=0.8, seed=1337, objective=binary:logistic, max_depth=9 \n"
     ]
    },
    {
     "name": "stderr",
     "output_type": "stream",
     "text": [
      "/usr/local/lib/python2.7/dist-packages/xgboost-0.6-py2.7.egg/xgboost/sklearn.py:203: DeprecationWarning: The seed parameter is deprecated as of version .6.Please use random_state instead.seed is deprecated.\n",
      "  'seed is deprecated.', DeprecationWarning)\n"
     ]
    },
    {
     "name": "stdout",
     "output_type": "stream",
     "text": [
      "[CV]  colsample_bytree=0.7, silent=1, learning_rate=0.05, min_child_weight=1, n_estimators=100, subsample=0.8, seed=1337, objective=binary:logistic, max_depth=9 - 3.3min\n",
      "[CV] colsample_bytree=0.7, silent=1, learning_rate=0.05, min_child_weight=11, n_estimators=100, subsample=0.8, seed=1337, objective=binary:logistic, max_depth=9 \n"
     ]
    },
    {
     "name": "stderr",
     "output_type": "stream",
     "text": [
      "/usr/local/lib/python2.7/dist-packages/xgboost-0.6-py2.7.egg/xgboost/sklearn.py:203: DeprecationWarning: The seed parameter is deprecated as of version .6.Please use random_state instead.seed is deprecated.\n",
      "  'seed is deprecated.', DeprecationWarning)\n"
     ]
    },
    {
     "name": "stdout",
     "output_type": "stream",
     "text": [
      "[CV]  colsample_bytree=0.7, silent=1, learning_rate=0.05, min_child_weight=1, n_estimators=100, subsample=0.8, seed=1337, objective=binary:logistic, max_depth=9 - 3.4min\n",
      "[CV] colsample_bytree=0.7, silent=1, learning_rate=0.05, min_child_weight=11, n_estimators=100, subsample=0.8, seed=1337, objective=binary:logistic, max_depth=9 \n"
     ]
    },
    {
     "name": "stderr",
     "output_type": "stream",
     "text": [
      "/usr/local/lib/python2.7/dist-packages/xgboost-0.6-py2.7.egg/xgboost/sklearn.py:203: DeprecationWarning: The seed parameter is deprecated as of version .6.Please use random_state instead.seed is deprecated.\n",
      "  'seed is deprecated.', DeprecationWarning)\n"
     ]
    },
    {
     "name": "stdout",
     "output_type": "stream",
     "text": [
      "[CV]  colsample_bytree=0.7, silent=1, learning_rate=0.05, min_child_weight=1, n_estimators=100, subsample=0.8, seed=1337, objective=binary:logistic, max_depth=9 - 3.4min\n",
      "[CV] colsample_bytree=0.7, silent=1, learning_rate=0.05, min_child_weight=11, n_estimators=100, subsample=0.8, seed=1337, objective=binary:logistic, max_depth=9 \n"
     ]
    },
    {
     "name": "stderr",
     "output_type": "stream",
     "text": [
      "/usr/local/lib/python2.7/dist-packages/xgboost-0.6-py2.7.egg/xgboost/sklearn.py:203: DeprecationWarning: The seed parameter is deprecated as of version .6.Please use random_state instead.seed is deprecated.\n",
      "  'seed is deprecated.', DeprecationWarning)\n"
     ]
    },
    {
     "name": "stdout",
     "output_type": "stream",
     "text": [
      "[CV]  colsample_bytree=0.7, silent=1, learning_rate=0.05, min_child_weight=11, n_estimators=100, subsample=0.8, seed=1337, objective=binary:logistic, max_depth=9 - 2.1min\n",
      "[CV] colsample_bytree=0.7, silent=1, learning_rate=0.1, min_child_weight=1, n_estimators=100, subsample=0.8, seed=1337, objective=binary:logistic, max_depth=3 \n"
     ]
    },
    {
     "name": "stderr",
     "output_type": "stream",
     "text": [
      "/usr/local/lib/python2.7/dist-packages/xgboost-0.6-py2.7.egg/xgboost/sklearn.py:203: DeprecationWarning: The seed parameter is deprecated as of version .6.Please use random_state instead.seed is deprecated.\n",
      "  'seed is deprecated.', DeprecationWarning)\n"
     ]
    },
    {
     "name": "stdout",
     "output_type": "stream",
     "text": [
      "[CV]  colsample_bytree=0.7, silent=1, learning_rate=0.05, min_child_weight=11, n_estimators=100, subsample=0.8, seed=1337, objective=binary:logistic, max_depth=9 - 2.2min\n",
      "[CV] colsample_bytree=0.7, silent=1, learning_rate=0.1, min_child_weight=1, n_estimators=100, subsample=0.8, seed=1337, objective=binary:logistic, max_depth=3 \n"
     ]
    },
    {
     "name": "stderr",
     "output_type": "stream",
     "text": [
      "/usr/local/lib/python2.7/dist-packages/xgboost-0.6-py2.7.egg/xgboost/sklearn.py:203: DeprecationWarning: The seed parameter is deprecated as of version .6.Please use random_state instead.seed is deprecated.\n",
      "  'seed is deprecated.', DeprecationWarning)\n"
     ]
    },
    {
     "name": "stdout",
     "output_type": "stream",
     "text": [
      "[CV]  colsample_bytree=0.7, silent=1, learning_rate=0.05, min_child_weight=11, n_estimators=100, subsample=0.8, seed=1337, objective=binary:logistic, max_depth=9 - 2.3min\n",
      "[CV] colsample_bytree=0.7, silent=1, learning_rate=0.1, min_child_weight=1, n_estimators=100, subsample=0.8, seed=1337, objective=binary:logistic, max_depth=3 \n"
     ]
    },
    {
     "name": "stderr",
     "output_type": "stream",
     "text": [
      "/usr/local/lib/python2.7/dist-packages/xgboost-0.6-py2.7.egg/xgboost/sklearn.py:203: DeprecationWarning: The seed parameter is deprecated as of version .6.Please use random_state instead.seed is deprecated.\n",
      "  'seed is deprecated.', DeprecationWarning)\n"
     ]
    },
    {
     "name": "stdout",
     "output_type": "stream",
     "text": [
      "[CV]  colsample_bytree=0.7, silent=1, learning_rate=0.05, min_child_weight=11, n_estimators=100, subsample=0.8, seed=1337, objective=binary:logistic, max_depth=9 - 2.1min\n",
      "[CV] colsample_bytree=0.7, silent=1, learning_rate=0.1, min_child_weight=1, n_estimators=100, subsample=0.8, seed=1337, objective=binary:logistic, max_depth=3 \n"
     ]
    },
    {
     "name": "stderr",
     "output_type": "stream",
     "text": [
      "/usr/local/lib/python2.7/dist-packages/xgboost-0.6-py2.7.egg/xgboost/sklearn.py:203: DeprecationWarning: The seed parameter is deprecated as of version .6.Please use random_state instead.seed is deprecated.\n",
      "  'seed is deprecated.', DeprecationWarning)\n"
     ]
    },
    {
     "name": "stdout",
     "output_type": "stream",
     "text": [
      "[CV]  colsample_bytree=0.7, silent=1, learning_rate=0.05, min_child_weight=11, n_estimators=100, subsample=0.8, seed=1337, objective=binary:logistic, max_depth=9 - 2.1min\n",
      "[CV] colsample_bytree=0.7, silent=1, learning_rate=0.1, min_child_weight=1, n_estimators=100, subsample=0.8, seed=1337, objective=binary:logistic, max_depth=3 \n"
     ]
    },
    {
     "name": "stderr",
     "output_type": "stream",
     "text": [
      "/usr/local/lib/python2.7/dist-packages/xgboost-0.6-py2.7.egg/xgboost/sklearn.py:203: DeprecationWarning: The seed parameter is deprecated as of version .6.Please use random_state instead.seed is deprecated.\n",
      "  'seed is deprecated.', DeprecationWarning)\n"
     ]
    },
    {
     "name": "stdout",
     "output_type": "stream",
     "text": [
      "[CV]  colsample_bytree=0.7, silent=1, learning_rate=0.1, min_child_weight=1, n_estimators=100, subsample=0.8, seed=1337, objective=binary:logistic, max_depth=3 - 1.4min\n",
      "[CV] colsample_bytree=0.7, silent=1, learning_rate=0.1, min_child_weight=11, n_estimators=100, subsample=0.8, seed=1337, objective=binary:logistic, max_depth=3 \n"
     ]
    },
    {
     "name": "stderr",
     "output_type": "stream",
     "text": [
      "/usr/local/lib/python2.7/dist-packages/xgboost-0.6-py2.7.egg/xgboost/sklearn.py:203: DeprecationWarning: The seed parameter is deprecated as of version .6.Please use random_state instead.seed is deprecated.\n",
      "  'seed is deprecated.', DeprecationWarning)\n",
      "[Parallel(n_jobs=5)]: Done  31 tasks      | elapsed: 14.6min\n"
     ]
    },
    {
     "name": "stdout",
     "output_type": "stream",
     "text": [
      "[CV]  colsample_bytree=0.7, silent=1, learning_rate=0.1, min_child_weight=1, n_estimators=100, subsample=0.8, seed=1337, objective=binary:logistic, max_depth=3 - 1.5min\n",
      "[CV]  colsample_bytree=0.7, silent=1, learning_rate=0.1, min_child_weight=1, n_estimators=100, subsample=0.8, seed=1337, objective=binary:logistic, max_depth=3 - 1.4min\n",
      "[CV] colsample_bytree=0.7, silent=1, learning_rate=0.1, min_child_weight=11, n_estimators=100, subsample=0.8, seed=1337, objective=binary:logistic, max_depth=3 \n"
     ]
    },
    {
     "name": "stderr",
     "output_type": "stream",
     "text": [
      "/usr/local/lib/python2.7/dist-packages/xgboost-0.6-py2.7.egg/xgboost/sklearn.py:203: DeprecationWarning: The seed parameter is deprecated as of version .6.Please use random_state instead.seed is deprecated.\n",
      "  'seed is deprecated.', DeprecationWarning)\n"
     ]
    },
    {
     "name": "stdout",
     "output_type": "stream",
     "text": [
      "[CV] colsample_bytree=0.7, silent=1, learning_rate=0.1, min_child_weight=11, n_estimators=100, subsample=0.8, seed=1337, objective=binary:logistic, max_depth=3 \n"
     ]
    },
    {
     "name": "stderr",
     "output_type": "stream",
     "text": [
      "/usr/local/lib/python2.7/dist-packages/xgboost-0.6-py2.7.egg/xgboost/sklearn.py:203: DeprecationWarning: The seed parameter is deprecated as of version .6.Please use random_state instead.seed is deprecated.\n",
      "  'seed is deprecated.', DeprecationWarning)\n"
     ]
    },
    {
     "name": "stdout",
     "output_type": "stream",
     "text": [
      "[CV]  colsample_bytree=0.7, silent=1, learning_rate=0.1, min_child_weight=1, n_estimators=100, subsample=0.8, seed=1337, objective=binary:logistic, max_depth=3 - 1.4min\n",
      "[CV] colsample_bytree=0.7, silent=1, learning_rate=0.1, min_child_weight=11, n_estimators=100, subsample=0.8, seed=1337, objective=binary:logistic, max_depth=3 \n"
     ]
    },
    {
     "name": "stderr",
     "output_type": "stream",
     "text": [
      "/usr/local/lib/python2.7/dist-packages/xgboost-0.6-py2.7.egg/xgboost/sklearn.py:203: DeprecationWarning: The seed parameter is deprecated as of version .6.Please use random_state instead.seed is deprecated.\n",
      "  'seed is deprecated.', DeprecationWarning)\n"
     ]
    },
    {
     "name": "stdout",
     "output_type": "stream",
     "text": [
      "[CV]  colsample_bytree=0.7, silent=1, learning_rate=0.1, min_child_weight=1, n_estimators=100, subsample=0.8, seed=1337, objective=binary:logistic, max_depth=3 - 1.4min\n",
      "[CV] colsample_bytree=0.7, silent=1, learning_rate=0.1, min_child_weight=11, n_estimators=100, subsample=0.8, seed=1337, objective=binary:logistic, max_depth=3 \n"
     ]
    },
    {
     "name": "stderr",
     "output_type": "stream",
     "text": [
      "/usr/local/lib/python2.7/dist-packages/xgboost-0.6-py2.7.egg/xgboost/sklearn.py:203: DeprecationWarning: The seed parameter is deprecated as of version .6.Please use random_state instead.seed is deprecated.\n",
      "  'seed is deprecated.', DeprecationWarning)\n"
     ]
    },
    {
     "name": "stdout",
     "output_type": "stream",
     "text": [
      "[CV]  colsample_bytree=0.7, silent=1, learning_rate=0.1, min_child_weight=11, n_estimators=100, subsample=0.8, seed=1337, objective=binary:logistic, max_depth=3 - 1.4min\n",
      "[CV] colsample_bytree=0.7, silent=1, learning_rate=0.1, min_child_weight=1, n_estimators=100, subsample=0.8, seed=1337, objective=binary:logistic, max_depth=6 \n"
     ]
    },
    {
     "name": "stderr",
     "output_type": "stream",
     "text": [
      "/usr/local/lib/python2.7/dist-packages/xgboost-0.6-py2.7.egg/xgboost/sklearn.py:203: DeprecationWarning: The seed parameter is deprecated as of version .6.Please use random_state instead.seed is deprecated.\n",
      "  'seed is deprecated.', DeprecationWarning)\n"
     ]
    },
    {
     "name": "stdout",
     "output_type": "stream",
     "text": [
      "[CV]  colsample_bytree=0.7, silent=1, learning_rate=0.1, min_child_weight=11, n_estimators=100, subsample=0.8, seed=1337, objective=binary:logistic, max_depth=3 - 1.4min\n",
      "[CV] colsample_bytree=0.7, silent=1, learning_rate=0.1, min_child_weight=1, n_estimators=100, subsample=0.8, seed=1337, objective=binary:logistic, max_depth=6 \n"
     ]
    },
    {
     "name": "stderr",
     "output_type": "stream",
     "text": [
      "/usr/local/lib/python2.7/dist-packages/xgboost-0.6-py2.7.egg/xgboost/sklearn.py:203: DeprecationWarning: The seed parameter is deprecated as of version .6.Please use random_state instead.seed is deprecated.\n",
      "  'seed is deprecated.', DeprecationWarning)\n"
     ]
    },
    {
     "name": "stdout",
     "output_type": "stream",
     "text": [
      "[CV]  colsample_bytree=0.7, silent=1, learning_rate=0.1, min_child_weight=11, n_estimators=100, subsample=0.8, seed=1337, objective=binary:logistic, max_depth=3 - 1.4min\n",
      "[CV] colsample_bytree=0.7, silent=1, learning_rate=0.1, min_child_weight=1, n_estimators=100, subsample=0.8, seed=1337, objective=binary:logistic, max_depth=6 \n"
     ]
    },
    {
     "name": "stderr",
     "output_type": "stream",
     "text": [
      "/usr/local/lib/python2.7/dist-packages/xgboost-0.6-py2.7.egg/xgboost/sklearn.py:203: DeprecationWarning: The seed parameter is deprecated as of version .6.Please use random_state instead.seed is deprecated.\n",
      "  'seed is deprecated.', DeprecationWarning)\n"
     ]
    },
    {
     "name": "stdout",
     "output_type": "stream",
     "text": [
      "[CV]  colsample_bytree=0.7, silent=1, learning_rate=0.1, min_child_weight=11, n_estimators=100, subsample=0.8, seed=1337, objective=binary:logistic, max_depth=3 - 1.4min\n",
      "[CV] colsample_bytree=0.7, silent=1, learning_rate=0.1, min_child_weight=1, n_estimators=100, subsample=0.8, seed=1337, objective=binary:logistic, max_depth=6 \n"
     ]
    },
    {
     "name": "stderr",
     "output_type": "stream",
     "text": [
      "/usr/local/lib/python2.7/dist-packages/xgboost-0.6-py2.7.egg/xgboost/sklearn.py:203: DeprecationWarning: The seed parameter is deprecated as of version .6.Please use random_state instead.seed is deprecated.\n",
      "  'seed is deprecated.', DeprecationWarning)\n"
     ]
    },
    {
     "name": "stdout",
     "output_type": "stream",
     "text": [
      "[CV]  colsample_bytree=0.7, silent=1, learning_rate=0.1, min_child_weight=11, n_estimators=100, subsample=0.8, seed=1337, objective=binary:logistic, max_depth=3 - 1.3min\n",
      "[CV] colsample_bytree=0.7, silent=1, learning_rate=0.1, min_child_weight=1, n_estimators=100, subsample=0.8, seed=1337, objective=binary:logistic, max_depth=6 \n"
     ]
    },
    {
     "name": "stderr",
     "output_type": "stream",
     "text": [
      "/usr/local/lib/python2.7/dist-packages/xgboost-0.6-py2.7.egg/xgboost/sklearn.py:203: DeprecationWarning: The seed parameter is deprecated as of version .6.Please use random_state instead.seed is deprecated.\n",
      "  'seed is deprecated.', DeprecationWarning)\n"
     ]
    },
    {
     "name": "stdout",
     "output_type": "stream",
     "text": [
      "[CV]  colsample_bytree=0.7, silent=1, learning_rate=0.1, min_child_weight=1, n_estimators=100, subsample=0.8, seed=1337, objective=binary:logistic, max_depth=6 - 2.7min\n",
      "[CV] colsample_bytree=0.7, silent=1, learning_rate=0.1, min_child_weight=11, n_estimators=100, subsample=0.8, seed=1337, objective=binary:logistic, max_depth=6 \n"
     ]
    },
    {
     "name": "stderr",
     "output_type": "stream",
     "text": [
      "/usr/local/lib/python2.7/dist-packages/xgboost-0.6-py2.7.egg/xgboost/sklearn.py:203: DeprecationWarning: The seed parameter is deprecated as of version .6.Please use random_state instead.seed is deprecated.\n",
      "  'seed is deprecated.', DeprecationWarning)\n"
     ]
    },
    {
     "name": "stdout",
     "output_type": "stream",
     "text": [
      "[CV]  colsample_bytree=0.7, silent=1, learning_rate=0.1, min_child_weight=1, n_estimators=100, subsample=0.8, seed=1337, objective=binary:logistic, max_depth=6 - 2.6min\n",
      "[CV] colsample_bytree=0.7, silent=1, learning_rate=0.1, min_child_weight=11, n_estimators=100, subsample=0.8, seed=1337, objective=binary:logistic, max_depth=6 \n"
     ]
    },
    {
     "name": "stderr",
     "output_type": "stream",
     "text": [
      "/usr/local/lib/python2.7/dist-packages/xgboost-0.6-py2.7.egg/xgboost/sklearn.py:203: DeprecationWarning: The seed parameter is deprecated as of version .6.Please use random_state instead.seed is deprecated.\n",
      "  'seed is deprecated.', DeprecationWarning)\n"
     ]
    },
    {
     "name": "stdout",
     "output_type": "stream",
     "text": [
      "[CV]  colsample_bytree=0.7, silent=1, learning_rate=0.1, min_child_weight=1, n_estimators=100, subsample=0.8, seed=1337, objective=binary:logistic, max_depth=6 - 2.6min\n",
      "[CV] colsample_bytree=0.7, silent=1, learning_rate=0.1, min_child_weight=11, n_estimators=100, subsample=0.8, seed=1337, objective=binary:logistic, max_depth=6 \n"
     ]
    },
    {
     "name": "stderr",
     "output_type": "stream",
     "text": [
      "/usr/local/lib/python2.7/dist-packages/xgboost-0.6-py2.7.egg/xgboost/sklearn.py:203: DeprecationWarning: The seed parameter is deprecated as of version .6.Please use random_state instead.seed is deprecated.\n",
      "  'seed is deprecated.', DeprecationWarning)\n"
     ]
    },
    {
     "name": "stdout",
     "output_type": "stream",
     "text": [
      "[CV]  colsample_bytree=0.7, silent=1, learning_rate=0.1, min_child_weight=1, n_estimators=100, subsample=0.8, seed=1337, objective=binary:logistic, max_depth=6 - 2.7min\n",
      "[CV] colsample_bytree=0.7, silent=1, learning_rate=0.1, min_child_weight=11, n_estimators=100, subsample=0.8, seed=1337, objective=binary:logistic, max_depth=6 \n"
     ]
    },
    {
     "name": "stderr",
     "output_type": "stream",
     "text": [
      "/usr/local/lib/python2.7/dist-packages/xgboost-0.6-py2.7.egg/xgboost/sklearn.py:203: DeprecationWarning: The seed parameter is deprecated as of version .6.Please use random_state instead.seed is deprecated.\n",
      "  'seed is deprecated.', DeprecationWarning)\n"
     ]
    },
    {
     "name": "stdout",
     "output_type": "stream",
     "text": [
      "[CV]  colsample_bytree=0.7, silent=1, learning_rate=0.1, min_child_weight=1, n_estimators=100, subsample=0.8, seed=1337, objective=binary:logistic, max_depth=6 - 2.7min\n",
      "[CV] colsample_bytree=0.7, silent=1, learning_rate=0.1, min_child_weight=11, n_estimators=100, subsample=0.8, seed=1337, objective=binary:logistic, max_depth=6 \n"
     ]
    },
    {
     "name": "stderr",
     "output_type": "stream",
     "text": [
      "/usr/local/lib/python2.7/dist-packages/xgboost-0.6-py2.7.egg/xgboost/sklearn.py:203: DeprecationWarning: The seed parameter is deprecated as of version .6.Please use random_state instead.seed is deprecated.\n",
      "  'seed is deprecated.', DeprecationWarning)\n"
     ]
    },
    {
     "name": "stdout",
     "output_type": "stream",
     "text": [
      "[CV]  colsample_bytree=0.7, silent=1, learning_rate=0.1, min_child_weight=11, n_estimators=100, subsample=0.8, seed=1337, objective=binary:logistic, max_depth=6 - 2.0min\n",
      "[CV] colsample_bytree=0.7, silent=1, learning_rate=0.1, min_child_weight=1, n_estimators=100, subsample=0.8, seed=1337, objective=binary:logistic, max_depth=9 \n"
     ]
    },
    {
     "name": "stderr",
     "output_type": "stream",
     "text": [
      "/usr/local/lib/python2.7/dist-packages/xgboost-0.6-py2.7.egg/xgboost/sklearn.py:203: DeprecationWarning: The seed parameter is deprecated as of version .6.Please use random_state instead.seed is deprecated.\n",
      "  'seed is deprecated.', DeprecationWarning)\n"
     ]
    },
    {
     "name": "stdout",
     "output_type": "stream",
     "text": [
      "[CV]  colsample_bytree=0.7, silent=1, learning_rate=0.1, min_child_weight=11, n_estimators=100, subsample=0.8, seed=1337, objective=binary:logistic, max_depth=6 - 2.1min\n",
      "[CV] colsample_bytree=0.7, silent=1, learning_rate=0.1, min_child_weight=1, n_estimators=100, subsample=0.8, seed=1337, objective=binary:logistic, max_depth=9 \n"
     ]
    },
    {
     "name": "stderr",
     "output_type": "stream",
     "text": [
      "/usr/local/lib/python2.7/dist-packages/xgboost-0.6-py2.7.egg/xgboost/sklearn.py:203: DeprecationWarning: The seed parameter is deprecated as of version .6.Please use random_state instead.seed is deprecated.\n",
      "  'seed is deprecated.', DeprecationWarning)\n"
     ]
    },
    {
     "name": "stdout",
     "output_type": "stream",
     "text": [
      "[CV]  colsample_bytree=0.7, silent=1, learning_rate=0.1, min_child_weight=11, n_estimators=100, subsample=0.8, seed=1337, objective=binary:logistic, max_depth=6 - 2.0min\n",
      "[CV] colsample_bytree=0.7, silent=1, learning_rate=0.1, min_child_weight=1, n_estimators=100, subsample=0.8, seed=1337, objective=binary:logistic, max_depth=9 \n"
     ]
    },
    {
     "name": "stderr",
     "output_type": "stream",
     "text": [
      "/usr/local/lib/python2.7/dist-packages/xgboost-0.6-py2.7.egg/xgboost/sklearn.py:203: DeprecationWarning: The seed parameter is deprecated as of version .6.Please use random_state instead.seed is deprecated.\n",
      "  'seed is deprecated.', DeprecationWarning)\n"
     ]
    },
    {
     "name": "stdout",
     "output_type": "stream",
     "text": [
      "[CV]  colsample_bytree=0.7, silent=1, learning_rate=0.1, min_child_weight=11, n_estimators=100, subsample=0.8, seed=1337, objective=binary:logistic, max_depth=6 - 2.0min\n",
      "[CV] colsample_bytree=0.7, silent=1, learning_rate=0.1, min_child_weight=1, n_estimators=100, subsample=0.8, seed=1337, objective=binary:logistic, max_depth=9 \n"
     ]
    },
    {
     "name": "stderr",
     "output_type": "stream",
     "text": [
      "/usr/local/lib/python2.7/dist-packages/xgboost-0.6-py2.7.egg/xgboost/sklearn.py:203: DeprecationWarning: The seed parameter is deprecated as of version .6.Please use random_state instead.seed is deprecated.\n",
      "  'seed is deprecated.', DeprecationWarning)\n"
     ]
    },
    {
     "name": "stdout",
     "output_type": "stream",
     "text": [
      "[CV]  colsample_bytree=0.7, silent=1, learning_rate=0.1, min_child_weight=11, n_estimators=100, subsample=0.8, seed=1337, objective=binary:logistic, max_depth=6 - 2.1min\n",
      "[CV] colsample_bytree=0.7, silent=1, learning_rate=0.1, min_child_weight=1, n_estimators=100, subsample=0.8, seed=1337, objective=binary:logistic, max_depth=9 \n"
     ]
    },
    {
     "name": "stderr",
     "output_type": "stream",
     "text": [
      "/usr/local/lib/python2.7/dist-packages/xgboost-0.6-py2.7.egg/xgboost/sklearn.py:203: DeprecationWarning: The seed parameter is deprecated as of version .6.Please use random_state instead.seed is deprecated.\n",
      "  'seed is deprecated.', DeprecationWarning)\n"
     ]
    },
    {
     "name": "stdout",
     "output_type": "stream",
     "text": [
      "[CV]  colsample_bytree=0.7, silent=1, learning_rate=0.1, min_child_weight=1, n_estimators=100, subsample=0.8, seed=1337, objective=binary:logistic, max_depth=9 - 3.5min\n",
      "[CV] colsample_bytree=0.7, silent=1, learning_rate=0.1, min_child_weight=11, n_estimators=100, subsample=0.8, seed=1337, objective=binary:logistic, max_depth=9 \n"
     ]
    },
    {
     "name": "stderr",
     "output_type": "stream",
     "text": [
      "/usr/local/lib/python2.7/dist-packages/xgboost-0.6-py2.7.egg/xgboost/sklearn.py:203: DeprecationWarning: The seed parameter is deprecated as of version .6.Please use random_state instead.seed is deprecated.\n",
      "  'seed is deprecated.', DeprecationWarning)\n"
     ]
    },
    {
     "name": "stdout",
     "output_type": "stream",
     "text": [
      "[CV]  colsample_bytree=0.7, silent=1, learning_rate=0.1, min_child_weight=1, n_estimators=100, subsample=0.8, seed=1337, objective=binary:logistic, max_depth=9 - 3.5min\n",
      "[CV] colsample_bytree=0.7, silent=1, learning_rate=0.1, min_child_weight=11, n_estimators=100, subsample=0.8, seed=1337, objective=binary:logistic, max_depth=9 \n"
     ]
    },
    {
     "name": "stderr",
     "output_type": "stream",
     "text": [
      "/usr/local/lib/python2.7/dist-packages/xgboost-0.6-py2.7.egg/xgboost/sklearn.py:203: DeprecationWarning: The seed parameter is deprecated as of version .6.Please use random_state instead.seed is deprecated.\n",
      "  'seed is deprecated.', DeprecationWarning)\n"
     ]
    },
    {
     "name": "stdout",
     "output_type": "stream",
     "text": [
      "[CV]  colsample_bytree=0.7, silent=1, learning_rate=0.1, min_child_weight=1, n_estimators=100, subsample=0.8, seed=1337, objective=binary:logistic, max_depth=9 - 3.7min\n",
      "[CV] colsample_bytree=0.7, silent=1, learning_rate=0.1, min_child_weight=11, n_estimators=100, subsample=0.8, seed=1337, objective=binary:logistic, max_depth=9 \n"
     ]
    },
    {
     "name": "stderr",
     "output_type": "stream",
     "text": [
      "/usr/local/lib/python2.7/dist-packages/xgboost-0.6-py2.7.egg/xgboost/sklearn.py:203: DeprecationWarning: The seed parameter is deprecated as of version .6.Please use random_state instead.seed is deprecated.\n",
      "  'seed is deprecated.', DeprecationWarning)\n"
     ]
    },
    {
     "name": "stdout",
     "output_type": "stream",
     "text": [
      "[CV]  colsample_bytree=0.7, silent=1, learning_rate=0.1, min_child_weight=1, n_estimators=100, subsample=0.8, seed=1337, objective=binary:logistic, max_depth=9 - 3.7min\n",
      "[CV] colsample_bytree=0.7, silent=1, learning_rate=0.1, min_child_weight=11, n_estimators=100, subsample=0.8, seed=1337, objective=binary:logistic, max_depth=9 \n"
     ]
    },
    {
     "name": "stderr",
     "output_type": "stream",
     "text": [
      "/usr/local/lib/python2.7/dist-packages/xgboost-0.6-py2.7.egg/xgboost/sklearn.py:203: DeprecationWarning: The seed parameter is deprecated as of version .6.Please use random_state instead.seed is deprecated.\n",
      "  'seed is deprecated.', DeprecationWarning)\n"
     ]
    },
    {
     "name": "stdout",
     "output_type": "stream",
     "text": [
      "[CV]  colsample_bytree=0.7, silent=1, learning_rate=0.1, min_child_weight=1, n_estimators=100, subsample=0.8, seed=1337, objective=binary:logistic, max_depth=9 - 3.6min\n",
      "[CV] colsample_bytree=0.7, silent=1, learning_rate=0.1, min_child_weight=11, n_estimators=100, subsample=0.8, seed=1337, objective=binary:logistic, max_depth=9 \n"
     ]
    },
    {
     "name": "stderr",
     "output_type": "stream",
     "text": [
      "/usr/local/lib/python2.7/dist-packages/xgboost-0.6-py2.7.egg/xgboost/sklearn.py:203: DeprecationWarning: The seed parameter is deprecated as of version .6.Please use random_state instead.seed is deprecated.\n",
      "  'seed is deprecated.', DeprecationWarning)\n"
     ]
    },
    {
     "name": "stdout",
     "output_type": "stream",
     "text": [
      "[CV]  colsample_bytree=0.7, silent=1, learning_rate=0.1, min_child_weight=11, n_estimators=100, subsample=0.8, seed=1337, objective=binary:logistic, max_depth=9 - 2.1min\n",
      "[CV]  colsample_bytree=0.7, silent=1, learning_rate=0.1, min_child_weight=11, n_estimators=100, subsample=0.8, seed=1337, objective=binary:logistic, max_depth=9 - 2.1min\n",
      "[CV]  colsample_bytree=0.7, silent=1, learning_rate=0.1, min_child_weight=11, n_estimators=100, subsample=0.8, seed=1337, objective=binary:logistic, max_depth=9 - 2.2min\n",
      "[CV]  colsample_bytree=0.7, silent=1, learning_rate=0.1, min_child_weight=11, n_estimators=100, subsample=0.8, seed=1337, objective=binary:logistic, max_depth=9 - 2.0min\n",
      "[CV]  colsample_bytree=0.7, silent=1, learning_rate=0.1, min_child_weight=11, n_estimators=100, subsample=0.8, seed=1337, objective=binary:logistic, max_depth=9 - 1.9min\n"
     ]
    },
    {
     "name": "stderr",
     "output_type": "stream",
     "text": [
      "[Parallel(n_jobs=5)]: Done  60 out of  60 | elapsed: 26.6min finished\n",
      "/usr/local/lib/python2.7/dist-packages/xgboost-0.6-py2.7.egg/xgboost/sklearn.py:203: DeprecationWarning: The seed parameter is deprecated as of version .6.Please use random_state instead.seed is deprecated.\n",
      "  'seed is deprecated.', DeprecationWarning)\n"
     ]
    },
    {
     "name": "stdout",
     "output_type": "stream",
     "text": [
      "('Raw AUC score:', 0.9832488599285077)\n",
      "colsample_bytree: 0.7\n",
      "learning_rate: 0.1\n",
      "max_depth: 9\n",
      "min_child_weight: 11\n",
      "n_estimators: 100\n",
      "objective: 'binary:logistic'\n",
      "seed: 1337\n",
      "silent: 1\n",
      "subsample: 0.8\n"
     ]
    }
   ],
   "source": [
    "from sklearn.grid_search import GridSearchCV\n",
    "\n",
    "parameters = {\n",
    "              'objective':['binary:logistic'],\n",
    "              'learning_rate': [0.05,0.1], #so called `eta` value\n",
    "              'max_depth': [3,6,9],\n",
    "              'min_child_weight': [1,11],\n",
    "              'silent': [1],\n",
    "              'subsample': [0.8],\n",
    "              'colsample_bytree': [0.7],\n",
    "              'n_estimators': [100], #number of trees, change it to 1000 for better results\n",
    "              'seed': [1337]}\n",
    "\n",
    "clf = GridSearchCV(clf4, parameters, n_jobs=5, \n",
    "                   cv = 5, \n",
    "                   scoring='roc_auc',\n",
    "                   verbose=2, refit=True)\n",
    "\n",
    "clf.fit(X, y)\n",
    "\n",
    "#trust your CV!\n",
    "best_parameters, score, _ = max(clf.grid_scores_, key=lambda x: x[1])\n",
    "print('Raw AUC score:', score)\n",
    "for param_name in sorted(best_parameters.keys()):\n",
    "    print(\"%s: %r\" % (param_name, best_parameters[param_name]))\n"
   ]
  },
  {
   "cell_type": "code",
   "execution_count": 17,
   "metadata": {},
   "outputs": [
    {
     "data": {
      "text/plain": [
       "array([[227441,     10],\n",
       "       [    73,    321]])"
      ]
     },
     "execution_count": 17,
     "metadata": {},
     "output_type": "execute_result"
    }
   ],
   "source": [
    "final_model = clf.best_estimator_\n",
    "\n",
    "pred = final_model.predict(X)\n",
    "\n",
    "# each row in a confusion matrix represents an *actual* class, while each column represents a *predicted* class \n",
    "confusion_matrix(y,pred)"
   ]
  },
  {
   "cell_type": "code",
   "execution_count": null,
   "metadata": {
    "collapsed": true
   },
   "outputs": [],
   "source": []
  },
  {
   "cell_type": "code",
   "execution_count": null,
   "metadata": {
    "collapsed": true
   },
   "outputs": [],
   "source": []
  }
 ],
 "metadata": {
  "anaconda-cloud": {},
  "kernelspec": {
   "display_name": "Python 2",
   "language": "python",
   "name": "python2"
  },
  "language_info": {
   "codemirror_mode": {
    "name": "ipython",
    "version": 2
   },
   "file_extension": ".py",
   "mimetype": "text/x-python",
   "name": "python",
   "nbconvert_exporter": "python",
   "pygments_lexer": "ipython2",
   "version": "2.7.8"
  }
 },
 "nbformat": 4,
 "nbformat_minor": 1
}
