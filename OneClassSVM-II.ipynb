{
 "cells": [
  {
   "cell_type": "markdown",
   "metadata": {},
   "source": [
    "# Teste de Sistema de Detecção de Fraudes\n",
    "\n",
    "Teste utilizando o OneClassSVM, que é uma implementação de Support Vector Machine para Unsupervised Learning\n",
    "\n",
    "Nessa versão o teste é bem simples, utiliza só duas features e não faz tantos testes de configuração da SVM. Quero fazer uma outra versão pra comparar SVM, Logistic Regression e Neural Network. Al[em disso, usar GridSearch para teste de parâmetros etc\n",
    "\n",
    "**Segunda Versão** Vou tentar usar o GridSearch para definir parâmetros\n"
   ]
  },
  {
   "cell_type": "code",
   "execution_count": 157,
   "metadata": {
    "collapsed": false
   },
   "outputs": [],
   "source": [
    "from sklearn import svm\n",
    "import numpy as np\n",
    "from sklearn import preprocessing\n",
    "\n",
    "\n",
    "\n"
   ]
  },
  {
   "cell_type": "markdown",
   "metadata": {},
   "source": [
    "- Features layout: cod.cidade, valor compra\n",
    "  - cod. cidade = 1 sp, 2 jundiai, 3 campinas, 4 sorocaba, 5 internet\n",
    "  - local: 1 shoppping, 2 posto gasolina, 3 feira livre, 4 restaurante\n",
    "\n",
    "\n",
    "** Create a list for training using a random number generator **\n",
    "\n"
   ]
  },
  {
   "cell_type": "code",
   "execution_count": 158,
   "metadata": {
    "collapsed": false
   },
   "outputs": [
    {
     "name": "stdout",
     "output_type": "stream",
     "text": [
      "(150, 2)\n",
      "(150,)\n",
      "[[   1.          138.93034022]\n",
      " [   1.          149.38291911]\n",
      " [   2.          118.8628211 ]\n",
      " [   1.          196.45010447]\n",
      " [   2.          197.68551628]\n",
      " [   3.           76.44694425]\n",
      " [   1.          128.54485806]\n",
      " [   3.          174.22685272]\n",
      " [   2.          166.17955772]\n",
      " [   2.           87.84809596]\n",
      " [   2.          148.94740242]\n",
      " [   3.           94.7425958 ]\n",
      " [   1.           54.08103818]\n",
      " [   3.          163.57306945]\n",
      " [   3.          163.9697747 ]\n",
      " [   2.          127.83887168]\n",
      " [   2.          164.70429466]\n",
      " [   2.           79.03411695]\n",
      " [   3.           86.76699513]\n",
      " [   2.          138.80970342]\n",
      " [   3.           97.25634998]\n",
      " [   3.          129.14199199]\n",
      " [   1.           67.53516506]\n",
      " [   3.           58.90328373]\n",
      " [   3.           61.36528964]\n",
      " [   1.           93.08104362]\n",
      " [   2.          133.17925303]\n",
      " [   2.           90.68356199]\n",
      " [   3.          106.50483037]\n",
      " [   1.          188.19911903]\n",
      " [   1.          103.39955781]\n",
      " [   1.          124.10447517]\n",
      " [   2.          150.43268178]\n",
      " [   2.          149.50688912]\n",
      " [   3.          157.97099546]\n",
      " [   2.          116.07863704]\n",
      " [   3.          100.83895447]\n",
      " [   2.          100.00777533]\n",
      " [   3.          175.17607476]\n",
      " [   1.          111.46613034]\n",
      " [   2.          157.5475169 ]\n",
      " [   2.           84.13836011]\n",
      " [   3.           67.82095754]\n",
      " [   2.          189.75421856]\n",
      " [   1.          183.69375434]\n",
      " [   2.          130.86350998]\n",
      " [   3.           59.21773449]\n",
      " [   2.          133.3638146 ]\n",
      " [   1.          138.10061191]\n",
      " [   3.           91.84209197]\n",
      " [   3.           68.8951507 ]\n",
      " [   3.          134.12504161]\n",
      " [   3.          192.11856655]\n",
      " [   3.           70.12828398]\n",
      " [   1.          175.95830757]\n",
      " [   1.          129.43407862]\n",
      " [   3.          147.57662005]\n",
      " [   3.           91.42791981]\n",
      " [   1.          132.13761101]\n",
      " [   3.           63.23320511]\n",
      " [   3.          100.78599589]\n",
      " [   3.          120.88860504]\n",
      " [   1.           83.48347222]\n",
      " [   2.           89.04370515]\n",
      " [   1.          114.33584107]\n",
      " [   2.          127.43972627]\n",
      " [   3.           64.20849353]\n",
      " [   3.          158.7450865 ]\n",
      " [   3.           90.21532094]\n",
      " [   1.           87.19104174]\n",
      " [   1.          159.61485186]\n",
      " [   1.           86.57659648]\n",
      " [   3.          144.17633549]\n",
      " [   3.          146.45408229]\n",
      " [   3.          112.64592993]\n",
      " [   3.          162.48539063]\n",
      " [   3.          163.79234456]\n",
      " [   1.          120.26391097]\n",
      " [   2.          128.63345437]\n",
      " [   2.          135.58216691]\n",
      " [   2.          121.24711361]\n",
      " [   3.           95.39487592]\n",
      " [   2.          181.53229959]\n",
      " [   1.          131.07727647]\n",
      " [   3.          129.25672376]\n",
      " [   3.          158.81834202]\n",
      " [   1.           94.89734411]\n",
      " [   2.          165.99310075]\n",
      " [   3.          188.16315537]\n",
      " [   3.           76.34342791]\n",
      " [   2.           64.33342055]\n",
      " [   3.          149.43914152]\n",
      " [   2.          198.06453618]\n",
      " [   3.          184.69868334]\n",
      " [   2.           60.18894619]\n",
      " [   2.          170.22400615]\n",
      " [   2.           75.46564535]\n",
      " [   3.          163.09384777]\n",
      " [   2.          158.86772333]\n",
      " [   3.          134.93360104]\n",
      " [   3.          140.63925745]\n",
      " [   2.          147.4484862 ]\n",
      " [   1.          136.22738672]\n",
      " [   2.           79.23286154]\n",
      " [   2.          131.48663193]\n",
      " [   2.          176.57270394]\n",
      " [   3.           61.36684661]\n",
      " [   2.          128.40785655]\n",
      " [   2.          166.37057326]\n",
      " [   2.          185.07503029]\n",
      " [   2.           69.89939383]\n",
      " [   1.          152.01092392]\n",
      " [   1.          111.72794738]\n",
      " [   2.          163.72435044]\n",
      " [   3.          108.26803852]\n",
      " [   1.           77.02934047]\n",
      " [   1.           71.678376  ]\n",
      " [   2.          131.70967064]\n",
      " [   3.          184.64842166]\n",
      " [   3.          182.8097631 ]\n",
      " [   3.           54.02017249]\n",
      " [   2.          128.6914518 ]\n",
      " [   1.          166.51409101]\n",
      " [   1.          126.82445945]\n",
      " [   2.          183.57008622]\n",
      " [   2.          188.1515803 ]\n",
      " [   3.          167.5546368 ]\n",
      " [   3.          167.1392868 ]\n",
      " [   2.          197.9965342 ]\n",
      " [   1.          117.23284328]\n",
      " [   2.           71.50472027]\n",
      " [   1.          143.24002948]\n",
      " [   3.          107.01111957]\n",
      " [   1.           96.2181099 ]\n",
      " [   3.           74.55125095]\n",
      " [   2.          173.00286713]\n",
      " [   3.          103.81111411]\n",
      " [   1.          103.90823197]\n",
      " [   2.          116.53801115]\n",
      " [   3.          165.46360408]\n",
      " [   3.          105.3732963 ]\n",
      " [   1.          169.17089829]\n",
      " [   2.           60.44568281]\n",
      " [   3.           51.05345077]\n",
      " [   3.          192.36734516]\n",
      " [   3.          113.89977384]\n",
      " [   3.          188.22555762]\n",
      " [   1.           51.02514187]\n",
      " [   2.          140.002737  ]\n",
      " [   1.           79.99230967]]\n"
     ]
    }
   ],
   "source": [
    "import random\n",
    "\n",
    "place  = np.random.randint(1,4,150)\n",
    "price  = np.random.uniform(50.0,200,150)\n",
    "\n",
    "X = np.column_stack((place,price))\n",
    "\n",
    "print X.shape\n",
    "print X[:,0].shape\n",
    "print X\n",
    "\n",
    "\n",
    "test_place  = np.random.randint(1,8,100)\n",
    "test_price  = np.random.uniform(50.0,200,100)\n",
    "\n",
    "X_test = np.ones((100,2))\n",
    "\n",
    "X_test[:,0] = test_place.reshape(100,)\n",
    "X_test[:,1] = test_price.reshape(100,)\n",
    "\n",
    "#print X_test\n"
   ]
  },
  {
   "cell_type": "markdown",
   "metadata": {},
   "source": [
    "### ** Normalize data for SVM training **\n",
    "\n",
    "This is a ** very ** important step, specially because the features are in a very different range\n",
    "\n",
    "** Nota: ** o Objeto standard, criado aqui, será utilizado abaixo, nos testes, para normalizar os dados de testes baseados nos parametros de normalização usados aqui no treinamento"
   ]
  },
  {
   "cell_type": "code",
   "execution_count": null,
   "metadata": {
    "collapsed": false
   },
   "outputs": [
    {
     "name": "stdout",
     "output_type": "stream",
     "text": [
      "<type 'numpy.ndarray'>\n",
      "(150, 2)\n"
     ]
    }
   ],
   "source": [
    "\n",
    "standard = preprocessing.StandardScaler().fit(X)\n",
    "df_std = standard.transform(X)\n",
    "X = df_std\n",
    "\n",
    "print type(df_std)\n",
    "print df_std.shape\n",
    "#print X\n",
    "\n",
    "\n",
    "df_std_test = standard.transform(X_test)\n",
    "X_test = df_std_test\n",
    "#print X_test"
   ]
  },
  {
   "cell_type": "markdown",
   "metadata": {},
   "source": [
    "## Usando o GridSearchCV para a escolha dos Parâmetros gamma e nu\n",
    "\n",
    "Para escolher o resultado, olhar o gráfico e os indices impressos abaixo. Note que a cada vez que rodamos o script, os dados são gerados novamente (random) por isso não dá pra usar sempre o melhor valor que aparece aqui. Se os valores fossem fixos, ou reais, seria possível fazer o uso."
   ]
  },
  {
   "cell_type": "code",
   "execution_count": null,
   "metadata": {
    "collapsed": false
   },
   "outputs": [],
   "source": [
    "\n",
    "from sklearn.grid_search import GridSearchCV\n",
    "\n",
    "gamma_range = np.linspace (0.1,0.9,9)\n",
    "nu_range   = np.linspace (0.1,0.9,9)\n",
    "param_grid = dict (gamma=gamma_range,nu=nu_range)\n",
    "\n",
    "#print param_grid\n",
    "                   \n",
    "\n",
    "grid = GridSearchCV(clsf,param_grid,cv=10,scoring='accuracy')\n",
    "\n",
    "\n",
    "y = np.ones((150,1))\n",
    "#print y\n",
    "grid.fit(X,y)\n",
    "\n",
    "#print \"decision function\"\n",
    "#clsf.decision_function(X)\n",
    "\n",
    "for index,res in enumerate(grid.grid_scores_):\n",
    "    print \"idnex: %d  gamma: %f  nu: %f  mean: %f\" % (index,res.parameters['gamma'],res.parameters['nu'],res.mean_validation_score)\n",
    "\n",
    "grid_mean_scores = [result.mean_validation_score for result in grid.grid_scores_]\n",
    "\n",
    "import matplotlib.pyplot as plt\n",
    "%matplotlib inline\n",
    "\n",
    "\n",
    "plt.plot (grid_mean_scores)\n",
    "plt.xlabel('index of gridsearch teste')\n",
    "plt.ylabel('grid mean score')\n",
    "plt.show()\n",
    "\n",
    "\n"
   ]
  },
  {
   "cell_type": "code",
   "execution_count": null,
   "metadata": {
    "collapsed": false
   },
   "outputs": [],
   "source": [
    "# usando valores padrões de gamma e nu\n",
    "clsf = svm.OneClassSVM(nu=0.1,kernel='rbf',gamma=0.1)\n",
    "clsf.fit(X)\n",
    "\n",
    "output = clsf.predict (X)\n",
    "\n",
    "\n",
    "print \"Corretos: %d \" % len(output[output == 1])\n",
    "print \"Fraude: %d \" % len(output[output == -1])\n",
    "\n",
    "\n"
   ]
  },
  {
   "cell_type": "markdown",
   "metadata": {},
   "source": [
    "## Usando o X_test para fazer o predict\n",
    "\n",
    "agora, o X_test contém uma quantidade grande de valores que deveriam ser considerados FRAUDE"
   ]
  },
  {
   "cell_type": "code",
   "execution_count": null,
   "metadata": {
    "collapsed": false
   },
   "outputs": [],
   "source": [
    "output = clsf.predict (X_test)\n",
    "\n",
    "\n",
    "print \"Corretos: %d \" % len(output[output == 1])\n",
    "print \"Fraude: %d \" % len(output[output == -1])\n",
    "\n"
   ]
  }
 ],
 "metadata": {
  "anaconda-cloud": {},
  "kernelspec": {
   "display_name": "Python [Root]",
   "language": "python",
   "name": "Python [Root]"
  },
  "language_info": {
   "codemirror_mode": {
    "name": "ipython",
    "version": 2
   },
   "file_extension": ".py",
   "mimetype": "text/x-python",
   "name": "python",
   "nbconvert_exporter": "python",
   "pygments_lexer": "ipython2",
   "version": "2.7.12"
  }
 },
 "nbformat": 4,
 "nbformat_minor": 0
}
