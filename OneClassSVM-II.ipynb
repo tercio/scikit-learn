{
 "cells": [
  {
   "cell_type": "markdown",
   "metadata": {},
   "source": [
    "# Teste de Sistema de Detecção de Fraudes\n",
    "\n",
    "Teste utilizando o OneClassSVM, que é uma implementação de Support Vector Machine para Unsupervised Learning\n",
    "\n",
    "Nessa versão o teste é bem simples, utiliza só duas features e não faz tantos testes de configuração da SVM. Quero fazer uma outra versão pra comparar SVM, Logistic Regression e Neural Network. Al[em disso, usar GridSearch para teste de parâmetros etc\n",
    "\n",
    "**Segunda Versão** Vou tentar usar o GridSearch para definir parâmetros\n"
   ]
  },
  {
   "cell_type": "code",
   "execution_count": 133,
   "metadata": {
    "collapsed": false
   },
   "outputs": [],
   "source": [
    "from sklearn import svm\n",
    "import numpy as np\n",
    "from sklearn import preprocessing\n",
    "\n",
    "\n",
    "\n"
   ]
  },
  {
   "cell_type": "markdown",
   "metadata": {},
   "source": [
    "- Features layout: cod.cidade, valor compra\n",
    "  - cod. cidade = 1 sp, 2 jundiai, 3 campinas, 4 sorocaba, 5 internet\n",
    "  - local: 1 shoppping, 2 posto gasolina, 3 feira livre, 4 restaurante\n",
    "\n",
    "\n",
    "** Create a list for training using a random number generator **\n",
    "\n"
   ]
  },
  {
   "cell_type": "code",
   "execution_count": 97,
   "metadata": {
    "collapsed": false
   },
   "outputs": [
    {
     "name": "stdout",
     "output_type": "stream",
     "text": [
      "(150, 2)\n",
      "(150,)\n"
     ]
    }
   ],
   "source": [
    "import random\n",
    "\n",
    "place  = np.random.randint(1,4,150)\n",
    "price  = np.random.uniform(50.0,200,150)\n",
    "\n",
    "X = np.ones((150,2))\n",
    "\n",
    "X[:,0] = place.reshape(150,)\n",
    "X[:,1] = price.reshape(150,)\n",
    "\n",
    "\n",
    "print X.shape\n",
    "print X[:,0].shape\n",
    "#print X\n",
    "\n",
    "\n",
    "test_place  = np.random.randint(1,8,100)\n",
    "test_price  = np.random.uniform(50.0,200,100)\n",
    "\n",
    "X_test = np.ones((100,2))\n",
    "\n",
    "X_test[:,0] = test_place.reshape(100,)\n",
    "X_test[:,1] = test_price.reshape(100,)\n",
    "\n",
    "#print X_test\n"
   ]
  },
  {
   "cell_type": "markdown",
   "metadata": {},
   "source": [
    "### ** Normalize data for SVM training **\n",
    "\n",
    "This is a ** very ** important step, specially because the features are in a very different range\n",
    "\n",
    "** Nota: ** o Objeto standard, criado aqui, será utilizado abaixo, nos testes, para normalizar os dados de testes baseados nos parametros de normalização usados aqui no treinamento"
   ]
  },
  {
   "cell_type": "code",
   "execution_count": 98,
   "metadata": {
    "collapsed": false
   },
   "outputs": [
    {
     "name": "stdout",
     "output_type": "stream",
     "text": [
      "<type 'numpy.ndarray'>\n",
      "(150, 2)\n"
     ]
    }
   ],
   "source": [
    "\n",
    "standard = preprocessing.StandardScaler().fit(X)\n",
    "df_std = standard.transform(X)\n",
    "X = df_std\n",
    "\n",
    "print type(df_std)\n",
    "print df_std.shape\n",
    "#print X\n",
    "\n",
    "\n",
    "df_std_test = standard.transform(X_test)\n",
    "X_test = df_std_test\n",
    "#print X_test"
   ]
  },
  {
   "cell_type": "code",
   "execution_count": 138,
   "metadata": {
    "collapsed": false
   },
   "outputs": [
    {
     "name": "stdout",
     "output_type": "stream",
     "text": [
      "idnex: 0  gamma: 0.100000  nu: 0.100000  mean: 0.886667\n",
      "idnex: 1  gamma: 0.100000  nu: 0.200000  mean: 0.780000\n",
      "idnex: 2  gamma: 0.100000  nu: 0.300000  mean: 0.713333\n",
      "idnex: 3  gamma: 0.100000  nu: 0.400000  mean: 0.600000\n",
      "idnex: 4  gamma: 0.100000  nu: 0.500000  mean: 0.493333\n",
      "idnex: 5  gamma: 0.100000  nu: 0.600000  mean: 0.386667\n",
      "idnex: 6  gamma: 0.100000  nu: 0.700000  mean: 0.293333\n",
      "idnex: 7  gamma: 0.100000  nu: 0.800000  mean: 0.200000\n",
      "idnex: 8  gamma: 0.100000  nu: 0.900000  mean: 0.106667\n",
      "idnex: 9  gamma: 0.200000  nu: 0.100000  mean: 0.886667\n",
      "idnex: 10  gamma: 0.200000  nu: 0.200000  mean: 0.786667\n",
      "idnex: 11  gamma: 0.200000  nu: 0.300000  mean: 0.693333\n",
      "idnex: 12  gamma: 0.200000  nu: 0.400000  mean: 0.600000\n",
      "idnex: 13  gamma: 0.200000  nu: 0.500000  mean: 0.486667\n",
      "idnex: 14  gamma: 0.200000  nu: 0.600000  mean: 0.393333\n",
      "idnex: 15  gamma: 0.200000  nu: 0.700000  mean: 0.300000\n",
      "idnex: 16  gamma: 0.200000  nu: 0.800000  mean: 0.200000\n",
      "idnex: 17  gamma: 0.200000  nu: 0.900000  mean: 0.106667\n",
      "idnex: 18  gamma: 0.300000  nu: 0.100000  mean: 0.893333\n",
      "idnex: 19  gamma: 0.300000  nu: 0.200000  mean: 0.773333\n",
      "idnex: 20  gamma: 0.300000  nu: 0.300000  mean: 0.693333\n",
      "idnex: 21  gamma: 0.300000  nu: 0.400000  mean: 0.600000\n",
      "idnex: 22  gamma: 0.300000  nu: 0.500000  mean: 0.486667\n",
      "idnex: 23  gamma: 0.300000  nu: 0.600000  mean: 0.366667\n",
      "idnex: 24  gamma: 0.300000  nu: 0.700000  mean: 0.293333\n",
      "idnex: 25  gamma: 0.300000  nu: 0.800000  mean: 0.186667\n",
      "idnex: 26  gamma: 0.300000  nu: 0.900000  mean: 0.106667\n",
      "idnex: 27  gamma: 0.400000  nu: 0.100000  mean: 0.880000\n",
      "idnex: 28  gamma: 0.400000  nu: 0.200000  mean: 0.780000\n",
      "idnex: 29  gamma: 0.400000  nu: 0.300000  mean: 0.680000\n",
      "idnex: 30  gamma: 0.400000  nu: 0.400000  mean: 0.580000\n",
      "idnex: 31  gamma: 0.400000  nu: 0.500000  mean: 0.480000\n",
      "idnex: 32  gamma: 0.400000  nu: 0.600000  mean: 0.386667\n",
      "idnex: 33  gamma: 0.400000  nu: 0.700000  mean: 0.286667\n",
      "idnex: 34  gamma: 0.400000  nu: 0.800000  mean: 0.193333\n",
      "idnex: 35  gamma: 0.400000  nu: 0.900000  mean: 0.106667\n",
      "idnex: 36  gamma: 0.500000  nu: 0.100000  mean: 0.860000\n",
      "idnex: 37  gamma: 0.500000  nu: 0.200000  mean: 0.800000\n",
      "idnex: 38  gamma: 0.500000  nu: 0.300000  mean: 0.673333\n",
      "idnex: 39  gamma: 0.500000  nu: 0.400000  mean: 0.580000\n",
      "idnex: 40  gamma: 0.500000  nu: 0.500000  mean: 0.506667\n",
      "idnex: 41  gamma: 0.500000  nu: 0.600000  mean: 0.373333\n",
      "idnex: 42  gamma: 0.500000  nu: 0.700000  mean: 0.280000\n",
      "idnex: 43  gamma: 0.500000  nu: 0.800000  mean: 0.206667\n",
      "idnex: 44  gamma: 0.500000  nu: 0.900000  mean: 0.106667\n",
      "idnex: 45  gamma: 0.600000  nu: 0.100000  mean: 0.866667\n",
      "idnex: 46  gamma: 0.600000  nu: 0.200000  mean: 0.786667\n",
      "idnex: 47  gamma: 0.600000  nu: 0.300000  mean: 0.666667\n",
      "idnex: 48  gamma: 0.600000  nu: 0.400000  mean: 0.573333\n",
      "idnex: 49  gamma: 0.600000  nu: 0.500000  mean: 0.473333\n",
      "idnex: 50  gamma: 0.600000  nu: 0.600000  mean: 0.413333\n",
      "idnex: 51  gamma: 0.600000  nu: 0.700000  mean: 0.300000\n",
      "idnex: 52  gamma: 0.600000  nu: 0.800000  mean: 0.180000\n",
      "idnex: 53  gamma: 0.600000  nu: 0.900000  mean: 0.113333\n",
      "idnex: 54  gamma: 0.700000  nu: 0.100000  mean: 0.866667\n",
      "idnex: 55  gamma: 0.700000  nu: 0.200000  mean: 0.773333\n",
      "idnex: 56  gamma: 0.700000  nu: 0.300000  mean: 0.673333\n",
      "idnex: 57  gamma: 0.700000  nu: 0.400000  mean: 0.580000\n",
      "idnex: 58  gamma: 0.700000  nu: 0.500000  mean: 0.460000\n",
      "idnex: 59  gamma: 0.700000  nu: 0.600000  mean: 0.373333\n",
      "idnex: 60  gamma: 0.700000  nu: 0.700000  mean: 0.273333\n",
      "idnex: 61  gamma: 0.700000  nu: 0.800000  mean: 0.166667\n",
      "idnex: 62  gamma: 0.700000  nu: 0.900000  mean: 0.093333\n",
      "idnex: 63  gamma: 0.800000  nu: 0.100000  mean: 0.853333\n",
      "idnex: 64  gamma: 0.800000  nu: 0.200000  mean: 0.760000\n",
      "idnex: 65  gamma: 0.800000  nu: 0.300000  mean: 0.640000\n",
      "idnex: 66  gamma: 0.800000  nu: 0.400000  mean: 0.566667\n",
      "idnex: 67  gamma: 0.800000  nu: 0.500000  mean: 0.446667\n",
      "idnex: 68  gamma: 0.800000  nu: 0.600000  mean: 0.346667\n",
      "idnex: 69  gamma: 0.800000  nu: 0.700000  mean: 0.266667\n",
      "idnex: 70  gamma: 0.800000  nu: 0.800000  mean: 0.173333\n",
      "idnex: 71  gamma: 0.800000  nu: 0.900000  mean: 0.066667\n",
      "idnex: 72  gamma: 0.900000  nu: 0.100000  mean: 0.853333\n",
      "idnex: 73  gamma: 0.900000  nu: 0.200000  mean: 0.713333\n",
      "idnex: 74  gamma: 0.900000  nu: 0.300000  mean: 0.653333\n",
      "idnex: 75  gamma: 0.900000  nu: 0.400000  mean: 0.586667\n",
      "idnex: 76  gamma: 0.900000  nu: 0.500000  mean: 0.446667\n",
      "idnex: 77  gamma: 0.900000  nu: 0.600000  mean: 0.346667\n",
      "idnex: 78  gamma: 0.900000  nu: 0.700000  mean: 0.280000\n",
      "idnex: 79  gamma: 0.900000  nu: 0.800000  mean: 0.206667\n",
      "idnex: 80  gamma: 0.900000  nu: 0.900000  mean: 0.086667\n"
     ]
    },
    {
     "data": {
      "image/png": "[encoded data removed]",
      "text/plain": [
       "<matplotlib.figure.Figure at 0x1113e7510>"
      ]
     },
     "metadata": {},
     "output_type": "display_data"
    }
   ],
   "source": [
    "\n",
    "from sklearn.grid_search import GridSearchCV\n",
    "\n",
    "gamma_range = np.linspace (0.1,0.9,9)\n",
    "nu_range   = np.linspace (0.1,0.9,9)\n",
    "param_grid = dict (gamma=gamma_range,nu=nu_range)\n",
    "\n",
    "#print param_grid\n",
    "                   \n",
    "clsf = svm.OneClassSVM(nu=0.1,kernel='rbf',gamma=0.1)\n",
    "\n",
    "grid = GridSearchCV(clsf,param_grid,cv=10,scoring='accuracy')\n",
    "\n",
    "\n",
    "y = np.ones((150,1))\n",
    "#print y\n",
    "grid.fit(X,y)\n",
    "\n",
    "#print \"decision function\"\n",
    "#clsf.decision_function(X)\n",
    "\n",
    "for index,res in enumerate(grid.grid_scores_):\n",
    "    print \"idnex: %d  gamma: %f  nu: %f  mean: %f\" % (index,res.parameters['gamma'],res.parameters['nu'],res.mean_validation_score)\n",
    "\n",
    "gamma_mean_scores = [result.mean_validation_score for result in grid.grid_scores_]\n",
    "\n",
    "import matplotlib.pyplot as plt\n",
    "%matplotlib inline\n",
    "\n",
    "\n",
    "plt.plot (gamma_mean_scores)\n",
    "plt.show()\n",
    "\n",
    "# aparentemente e melhor usar resultado: \n",
    "#   idnex: 18  gamma: 0.300000  nu: 0.100000  mean: 0.893333\n"
   ]
  },
  {
   "cell_type": "code",
   "execution_count": 100,
   "metadata": {
    "collapsed": false
   },
   "outputs": [
    {
     "name": "stdout",
     "output_type": "stream",
     "text": [
      "Corretos: 135 \n",
      "Fraude: 15 \n"
     ]
    }
   ],
   "source": [
    "output = clsf.predict (X)\n",
    "\n",
    "\n",
    "print \"Corretos: %d \" % len(output[output == 1])\n",
    "print \"Fraude: %d \" % len(output[output == -1])\n",
    "\n",
    "\n"
   ]
  }
 ],
 "metadata": {
  "anaconda-cloud": {},
  "kernelspec": {
   "display_name": "Python [Root]",
   "language": "python",
   "name": "Python [Root]"
  },
  "language_info": {
   "codemirror_mode": {
    "name": "ipython",
    "version": 2
   },
   "file_extension": ".py",
   "mimetype": "text/x-python",
   "name": "python",
   "nbconvert_exporter": "python",
   "pygments_lexer": "ipython2",
   "version": "2.7.12"
  }
 },
 "nbformat": 4,
 "nbformat_minor": 0
}
